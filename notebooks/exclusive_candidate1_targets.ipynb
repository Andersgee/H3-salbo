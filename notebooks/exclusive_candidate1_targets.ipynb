{
 "cells": [
  {
   "cell_type": "code",
   "execution_count": 12,
   "metadata": {
    "collapsed": false
   },
   "outputs": [
    {
     "name": "stderr",
     "output_type": "stream",
     "text": [
      "WARNING: replacing module H.\n",
      "WARNING: replacing module Salboai.\n"
     ]
    },
    {
     "data": {
      "text/plain": [
       "exclusive_candidate1_targets! (generic function with 1 method)"
      ]
     },
     "execution_count": 12,
     "metadata": {},
     "output_type": "execute_result"
    }
   ],
   "source": [
    "include(\"../hlt/halite.jl\")\n",
    "include(\"../salboai/salboai.jl\")\n",
    "#using Main.Salboai\n",
    "\n",
    "newship(y,x,h) = H.Ship(0, 1, CartesianIndex(y,x), h)\n",
    "\n",
    "function exclusive_candidate1_targets!(dirs, targets, targets_hpt)\n",
    "    #changes FIRST candidate target to be exclusive among the ships. (the others are not exclusive)\n",
    "    #does not change order of targets_hpt\n",
    "    targets_hpt_matrix=hcat(targets_hpt...)\n",
    "    targets_matrix = hcat(targets...)\n",
    "    for _ = 1:length(dirs)\n",
    "        v, ind = findmax(targets_hpt_matrix)\n",
    "        i = ind[1]\n",
    "        shipnr = ind[2]\n",
    "        bestsquare = targets_matrix[ind] #this square has best hpt (among all)\n",
    "        \n",
    "        #put that direction as first candidate direction and target\n",
    "        dirs[shipnr] = [dirs[shipnr][i]; dirs[shipnr][dirs[shipnr].!=dirs[shipnr][i]]]\n",
    "        targets[shipnr] = [targets[shipnr][i]; targets[shipnr][ targets[shipnr].!= tuple(targets[shipnr][i]) ]]\n",
    "        \n",
    "        #remove the picked square and ship from being picked again\n",
    "        targets_hpt_matrix[targets_matrix.==tuple(bestsquare)] .= -Inf\n",
    "        targets_hpt_matrix[:,shipnr] .= -Inf\n",
    "    end\n",
    "    return dirs, targets\n",
    "end"
   ]
  },
  {
   "cell_type": "code",
   "execution_count": 13,
   "metadata": {
    "collapsed": false
   },
   "outputs": [
    {
     "data": {
      "text/plain": [
       "4×4 Array{Int64,2}:\n",
       " 0  70   0  0\n",
       " 0   0  90  0\n",
       " 0  50   0  0\n",
       " 0   0   0  0"
      ]
     },
     "execution_count": 13,
     "metadata": {},
     "output_type": "execute_result"
    }
   ],
   "source": [
    "m=[0 70 0 0;\n",
    "    0 0 90 0;\n",
    "    0 50 0 0;\n",
    "    0 0 0 0]"
   ]
  },
  {
   "cell_type": "code",
   "execution_count": 14,
   "metadata": {
    "collapsed": false,
    "scrolled": true
   },
   "outputs": [],
   "source": [
    "shipyard = CartesianIndex(4,4)\n",
    "ships = [newship(2,2, 900), newship(2,3, 900), newship(4,3, 900)]\n",
    "\n",
    "dirs = Vector{Char}[]\n",
    "targets = Vector{CartesianIndex}[]\n",
    "targets_hpt = Vector{Float64}[]\n",
    "for ship in ships\n",
    "    dir, target, target_hpt = Salboai.candidate_directions(m, ship, shipyard)\n",
    "    push!(dirs, dir)\n",
    "    push!(targets, target)\n",
    "    push!(targets_hpt, target_hpt)\n",
    "end"
   ]
  },
  {
   "cell_type": "code",
   "execution_count": 15,
   "metadata": {
    "collapsed": false
   },
   "outputs": [
    {
     "data": {
      "text/plain": [
       "5×3 Array{Any,2}:\n",
       " 'e'  CartesianIndex(2, 3)  3.4\n",
       " 'n'  CartesianIndex(1, 2)  2.6\n",
       " 's'  CartesianIndex(3, 2)  2.0\n",
       " 'w'  CartesianIndex(1, 1)  0.0\n",
       " 'o'  CartesianIndex(2, 2)  0.0"
      ]
     },
     "execution_count": 15,
     "metadata": {},
     "output_type": "execute_result"
    }
   ],
   "source": [
    "i=1\n",
    "[dirs[i] targets[i] targets_hpt[i]]"
   ]
  },
  {
   "cell_type": "code",
   "execution_count": 16,
   "metadata": {
    "collapsed": false
   },
   "outputs": [],
   "source": [
    "#ships, dirs, targets, targets_hpt = Salboai.sort_staystill_first!(ships, dirs, targets, targets_hpt);"
   ]
  },
  {
   "cell_type": "code",
   "execution_count": 17,
   "metadata": {
    "collapsed": false
   },
   "outputs": [
    {
     "data": {
      "text/plain": [
       "5×3 Array{Any,2}:\n",
       " 'o'  CartesianIndex(2, 3)   4.25    \n",
       " 'n'  CartesianIndex(1, 2)   0.666667\n",
       " 's'  CartesianIndex(3, 2)   0.166667\n",
       " 'e'  CartesianIndex(2, 1)  -1.5     \n",
       " 'w'  CartesianIndex(3, 1)  -1.5     "
      ]
     },
     "execution_count": 17,
     "metadata": {},
     "output_type": "execute_result"
    }
   ],
   "source": [
    "i=2\n",
    "[dirs[i] targets[i] targets_hpt[i]]"
   ]
  },
  {
   "cell_type": "code",
   "execution_count": 18,
   "metadata": {
    "collapsed": false
   },
   "outputs": [
    {
     "data": {
      "text/plain": [
       "5×3 Array{Any,2}:\n",
       " 'n'  CartesianIndex(2, 3)  2.83333\n",
       " 's'  CartesianIndex(1, 2)  2.16667\n",
       " 'w'  CartesianIndex(1, 1)  0.0    \n",
       " 'e'  CartesianIndex(4, 1)  0.0    \n",
       " 'o'  CartesianIndex(4, 3)  0.0    "
      ]
     },
     "execution_count": 18,
     "metadata": {},
     "output_type": "execute_result"
    }
   ],
   "source": [
    "i=3\n",
    "[dirs[i] targets[i] targets_hpt[i]]"
   ]
  },
  {
   "cell_type": "code",
   "execution_count": 19,
   "metadata": {
    "collapsed": false
   },
   "outputs": [
    {
     "data": {
      "text/plain": [
       "(Array{Char,1}[['n', 'e', 's', 'w', 'o'], ['o', 'n', 's', 'e', 'w'], ['w', 'n', 's', 'e', 'o']], Array{CartesianIndex,1}[[CartesianIndex(1, 2), CartesianIndex(2, 3), CartesianIndex(3, 2), CartesianIndex(1, 1), CartesianIndex(2, 2)], [CartesianIndex(2, 3), CartesianIndex(1, 2), CartesianIndex(3, 2), CartesianIndex(2, 1), CartesianIndex(3, 1)], [CartesianIndex(1, 1), CartesianIndex(2, 3), CartesianIndex(1, 2), CartesianIndex(4, 1), CartesianIndex(4, 3)]])"
      ]
     },
     "execution_count": 19,
     "metadata": {},
     "output_type": "execute_result"
    }
   ],
   "source": [
    "dirs, targets = exclusive_candidate1_targets!(dirs, targets, targets_hpt)"
   ]
  },
  {
   "cell_type": "code",
   "execution_count": 20,
   "metadata": {
    "collapsed": false
   },
   "outputs": [
    {
     "data": {
      "text/plain": [
       "5×2 Array{Any,2}:\n",
       " 'n'  CartesianIndex(1, 2)\n",
       " 'e'  CartesianIndex(2, 3)\n",
       " 's'  CartesianIndex(3, 2)\n",
       " 'w'  CartesianIndex(1, 1)\n",
       " 'o'  CartesianIndex(2, 2)"
      ]
     },
     "execution_count": 20,
     "metadata": {},
     "output_type": "execute_result"
    }
   ],
   "source": [
    "i=1\n",
    "[dirs[i] targets[i]]"
   ]
  },
  {
   "cell_type": "code",
   "execution_count": 21,
   "metadata": {
    "collapsed": false
   },
   "outputs": [
    {
     "data": {
      "text/plain": [
       "5×2 Array{Any,2}:\n",
       " 'o'  CartesianIndex(2, 3)\n",
       " 'n'  CartesianIndex(1, 2)\n",
       " 's'  CartesianIndex(3, 2)\n",
       " 'e'  CartesianIndex(2, 1)\n",
       " 'w'  CartesianIndex(3, 1)"
      ]
     },
     "execution_count": 21,
     "metadata": {},
     "output_type": "execute_result"
    }
   ],
   "source": [
    "i=2\n",
    "[dirs[i] targets[i]]"
   ]
  },
  {
   "cell_type": "code",
   "execution_count": 22,
   "metadata": {
    "collapsed": false
   },
   "outputs": [
    {
     "data": {
      "text/plain": [
       "5×2 Array{Any,2}:\n",
       " 'w'  CartesianIndex(1, 1)\n",
       " 'n'  CartesianIndex(2, 3)\n",
       " 's'  CartesianIndex(1, 2)\n",
       " 'e'  CartesianIndex(4, 1)\n",
       " 'o'  CartesianIndex(4, 3)"
      ]
     },
     "execution_count": 22,
     "metadata": {},
     "output_type": "execute_result"
    }
   ],
   "source": [
    "i=3\n",
    "[dirs[i] targets[i]]"
   ]
  },
  {
   "cell_type": "code",
   "execution_count": 23,
   "metadata": {
    "collapsed": false
   },
   "outputs": [
    {
     "data": {
      "text/plain": [
       "3-element Array{Array{CartesianIndex,1},1}:\n",
       " [CartesianIndex(1, 2), CartesianIndex(2, 3), CartesianIndex(3, 2), CartesianIndex(1, 1), CartesianIndex(2, 2)]\n",
       " [CartesianIndex(2, 3), CartesianIndex(1, 2), CartesianIndex(3, 2), CartesianIndex(2, 1), CartesianIndex(3, 1)]\n",
       " [CartesianIndex(1, 1), CartesianIndex(2, 3), CartesianIndex(1, 2), CartesianIndex(4, 1), CartesianIndex(4, 3)]"
      ]
     },
     "execution_count": 23,
     "metadata": {},
     "output_type": "execute_result"
    }
   ],
   "source": [
    "targets"
   ]
  }
 ],
 "metadata": {
  "kernelspec": {
   "display_name": "Julia 1.0.1",
   "language": "julia",
   "name": "julia-1.0"
  },
  "language_info": {
   "file_extension": ".jl",
   "mimetype": "application/julia",
   "name": "julia",
   "version": "1.0.1"
  }
 },
 "nbformat": 4,
 "nbformat_minor": 2
}
