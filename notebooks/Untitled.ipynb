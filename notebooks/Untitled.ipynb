{
 "cells": [
  {
   "cell_type": "code",
   "execution_count": 46,
   "metadata": {
    "collapsed": false
   },
   "outputs": [
    {
     "data": {
      "text/plain": [
       "filterscores (generic function with 1 method)"
      ]
     },
     "execution_count": 46,
     "metadata": {},
     "output_type": "execute_result"
    }
   ],
   "source": [
    "function quadrant_travelcost(m)\n",
    "    # cost: cheapest cost from top left corner to every other square restricted to only South/East moves. (quadrant 4)\n",
    "    # and\n",
    "    # dir: correct FIRST direction to go in order to take that cheapest path\n",
    "    Y=size(m,1)\n",
    "    X=size(m,2)\n",
    "    dir=ones(Int,(Y,X))\n",
    "    cost=zeros(Int,(Y,X))\n",
    "    for x=1:X,y=1:Y\n",
    "        if x>1\n",
    "            cost[y,x]=cost[y,x-1]+m[y,x-1]\n",
    "            dir[y,x]  = y==1 ? 1 : dir[y,x-1]\n",
    "        end\n",
    "        if y>1\n",
    "            t_cost=cost[y-1,x]+m[y-1,x]\n",
    "            if t_cost<cost[y,x] || x==1\n",
    "                cost[y,x]=t_cost\n",
    "                dir[y,x] = x==1 ? 0 : dir[y-1,x]\n",
    "            end\n",
    "        end\n",
    "    end\n",
    "    dir[1,1]=4\n",
    "    return cost, dir\n",
    "end\n",
    "\n",
    "q1(m) = reverse(circshift(m, (-1,0)), dims=1)\n",
    "q2(m) = q1(q3(m))\n",
    "q3(m) = reverse(circshift(m, (0,-1)), dims=2)\n",
    "q4(m) = m\n",
    "\n",
    "iq1(m,d) = q1(m), replace(d, 0 => 2)\n",
    "iq2(m,d) = q2(m), replace(d, 0 => 2, 1 => 3)\n",
    "iq3(m,d) = q3(m), replace(d, 1 => 3)\n",
    "iq4(m,d) = q4(m), d\n",
    "\n",
    "shiftorigin(m, origin) = circshift(m, (1-origin[1], 1-origin[2]))\n",
    "ishiftorigin(m, origin) = circshift(m, (origin[1]-1, origin[2]-1))\n",
    "\n",
    "function travelcost(m, origin)\n",
    "    #Cheapest cost from some point to All Other points,\n",
    "    #and what direction to go on First step to take that cheapest path.\n",
    "    #south/east/north/west (in that order 0,1,2,3)\n",
    "    m = shiftorigin(m, origin)*0.1\n",
    "    expand(f) = x -> f(x...)\n",
    "    c1,d1 = m |> q1 |> quadrant_travelcost |> expand(iq1)\n",
    "    c2,d2 = m |> q2 |> quadrant_travelcost |> expand(iq2)\n",
    "    c3,d3 = m |> q3 |> quadrant_travelcost |> expand(iq3)\n",
    "    c4,d4 = m |> q4 |> quadrant_travelcost |> expand(iq4)\n",
    "    \n",
    "    D = cat(d1,d2,d3,d4, dims=3)\n",
    "    C = cat(c1,c2,c3,c4, dims=3)\n",
    "    v, i = findmin(C, dims=3)\n",
    "    \n",
    "    cost = ishiftorigin(C[i][:,:,1], origin)\n",
    "    first_direction = ishiftorigin(D[i][:,:,1], origin)\n",
    "    return cost, first_direction\n",
    "end\n",
    "\n",
    "function score(M, ship, shipyard, threshold)\n",
    "    #reward\n",
    "    #minus\n",
    "    #cost (from ship, to some point, and then to shipyard)\n",
    "    mining = max.(0, M .- threshold)\n",
    "    leftovers = min.(mining, threshold)\n",
    "    ignoreshipyard = M[shipyard...]\n",
    "    cost1, direction1 = travelcost(M, ship)\n",
    "    cost2, direction2 = travelcost(M, shipyard)\n",
    "    \n",
    "    cost = cost1 + cost2 + 0.1*leftovers .- 0.1*ignoreshipyard\n",
    "    direction = direction1\n",
    "    \n",
    "    s = mining - cost\n",
    "    return s, direction\n",
    "end\n",
    "\n",
    "function filterscores(S, cost_here2there, ship_available_halite)\n",
    "    #score of unreachable are zero\n",
    "    S = S.*(cost_here2there .< ship_available_halite)\n",
    "    return S\n",
    "end"
   ]
  },
  {
   "cell_type": "code",
   "execution_count": 47,
   "metadata": {
    "collapsed": false
   },
   "outputs": [
    {
     "data": {
      "text/plain": [
       "4×3 Array{Int64,2}:\n",
       " 300  500  700\n",
       " 300  400  500\n",
       " 100    0  200\n",
       " 300  500  700"
      ]
     },
     "execution_count": 47,
     "metadata": {},
     "output_type": "execute_result"
    }
   ],
   "source": [
    "origin=[3,2]\n",
    "m=[3 5 7; 3 4 5; 1 0 2; 3 5 7]*100"
   ]
  },
  {
   "cell_type": "code",
   "execution_count": 48,
   "metadata": {
    "collapsed": false
   },
   "outputs": [
    {
     "data": {
      "text/plain": [
       "4×3 Array{Int64,2}:\n",
       " 40  40  70\n",
       " 10   0  20\n",
       "  0   0   0\n",
       " 10   0  20"
      ]
     },
     "execution_count": 48,
     "metadata": {},
     "output_type": "execute_result"
    }
   ],
   "source": [
    "c, dir = travelcost(m, origin)\n",
    "c"
   ]
  },
  {
   "cell_type": "code",
   "execution_count": 49,
   "metadata": {
    "collapsed": false
   },
   "outputs": [
    {
     "data": {
      "text/plain": [
       "4×3 Array{Int64,2}:\n",
       " 3  2  1\n",
       " 3  2  2\n",
       " 3  4  1\n",
       " 3  0  1"
      ]
     },
     "execution_count": 49,
     "metadata": {},
     "output_type": "execute_result"
    }
   ],
   "source": [
    "dir"
   ]
  },
  {
   "cell_type": "code",
   "execution_count": null,
   "metadata": {
    "collapsed": false
   },
   "outputs": [],
   "source": []
  },
  {
   "cell_type": "code",
   "execution_count": 50,
   "metadata": {
    "collapsed": false
   },
   "outputs": [
    {
     "data": {
      "text/plain": [
       "4×3 Array{Float64,2}:\n",
       " 210.1  410.1  550.1\n",
       " 270.1  390.1  450.1\n",
       "  90.1    0.0  190.1\n",
       " 270.1  490.1  650.1"
      ]
     },
     "execution_count": 50,
     "metadata": {},
     "output_type": "execute_result"
    }
   ],
   "source": [
    "ship=[3,2]\n",
    "shipyard=[3,2]\n",
    "threshold=9\n",
    "s, dir = score(m, ship, shipyard, threshold)\n",
    "s"
   ]
  },
  {
   "cell_type": "code",
   "execution_count": 51,
   "metadata": {
    "collapsed": false
   },
   "outputs": [
    {
     "data": {
      "text/plain": [
       "4×3 Array{Int64,2}:\n",
       " 3  2  1\n",
       " 3  2  2\n",
       " 3  4  1\n",
       " 3  0  1"
      ]
     },
     "execution_count": 51,
     "metadata": {},
     "output_type": "execute_result"
    }
   ],
   "source": [
    "dir"
   ]
  },
  {
   "cell_type": "code",
   "execution_count": null,
   "metadata": {
    "collapsed": false
   },
   "outputs": [],
   "source": []
  },
  {
   "cell_type": "code",
   "execution_count": 52,
   "metadata": {
    "collapsed": false
   },
   "outputs": [
    {
     "data": {
      "text/plain": [
       "4×3 Array{Float64,2}:\n",
       "   0.0    0.0    0.0\n",
       " 270.1  390.1  450.1\n",
       "  90.1    0.0  190.1\n",
       " 270.1  490.1  650.1"
      ]
     },
     "execution_count": 52,
     "metadata": {},
     "output_type": "execute_result"
    }
   ],
   "source": [
    "ship_available_halite=40\n",
    "s_reachable=filterscores(s, c, ship_available_halite)"
   ]
  },
  {
   "cell_type": "code",
   "execution_count": 53,
   "metadata": {
    "collapsed": false
   },
   "outputs": [
    {
     "data": {
      "text/plain": [
       "CartesianIndex(4, 3)"
      ]
     },
     "execution_count": 53,
     "metadata": {},
     "output_type": "execute_result"
    }
   ],
   "source": [
    "v,i = findmax(s_reachable)\n",
    "i"
   ]
  },
  {
   "cell_type": "code",
   "execution_count": 54,
   "metadata": {
    "collapsed": false
   },
   "outputs": [
    {
     "data": {
      "text/plain": [
       "4×3 Array{Int64,2}:\n",
       " 3  2  1\n",
       " 3  2  2\n",
       " 3  4  1\n",
       " 3  0  1"
      ]
     },
     "execution_count": 54,
     "metadata": {},
     "output_type": "execute_result"
    }
   ],
   "source": [
    "dir"
   ]
  },
  {
   "cell_type": "code",
   "execution_count": 55,
   "metadata": {
    "collapsed": false
   },
   "outputs": [
    {
     "data": {
      "text/plain": [
       "1"
      ]
     },
     "execution_count": 55,
     "metadata": {},
     "output_type": "execute_result"
    }
   ],
   "source": [
    "dir[i]\n",
    "\n"
   ]
  },
  {
   "cell_type": "code",
   "execution_count": null,
   "metadata": {
    "collapsed": true
   },
   "outputs": [],
   "source": []
  },
  {
   "cell_type": "code",
   "execution_count": null,
   "metadata": {
    "collapsed": true
   },
   "outputs": [],
   "source": []
  },
  {
   "cell_type": "code",
   "execution_count": null,
   "metadata": {
    "collapsed": true
   },
   "outputs": [],
   "source": []
  },
  {
   "cell_type": "code",
   "execution_count": 56,
   "metadata": {
    "collapsed": false,
    "scrolled": true
   },
   "outputs": [
    {
     "data": {
      "text/plain": [
       "manhattandist (generic function with 1 method)"
      ]
     },
     "execution_count": 56,
     "metadata": {},
     "output_type": "execute_result"
    }
   ],
   "source": [
    "manhattandist(a,b)= sum(b-a)"
   ]
  },
  {
   "cell_type": "code",
   "execution_count": 58,
   "metadata": {
    "collapsed": false
   },
   "outputs": [
    {
     "data": {
      "text/plain": [
       "3"
      ]
     },
     "execution_count": 58,
     "metadata": {},
     "output_type": "execute_result"
    }
   ],
   "source": [
    "a=[4,3]\n",
    "b=[5,5]\n",
    "manhattandist(a,b)"
   ]
  },
  {
   "cell_type": "code",
   "execution_count": null,
   "metadata": {
    "collapsed": true
   },
   "outputs": [],
   "source": []
  }
 ],
 "metadata": {
  "kernelspec": {
   "display_name": "Julia 1.0.1",
   "language": "julia",
   "name": "julia-1.0"
  },
  "language_info": {
   "file_extension": ".jl",
   "mimetype": "application/julia",
   "name": "julia",
   "version": "1.0.1"
  }
 },
 "nbformat": 4,
 "nbformat_minor": 2
}
