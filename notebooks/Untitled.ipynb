{
 "cells": [
  {
   "cell_type": "code",
   "execution_count": 2,
   "metadata": {
    "collapsed": false
   },
   "outputs": [
    {
     "data": {
      "text/plain": [
       "4×3 Array{Int64,2}:\n",
       " 1  2  3\n",
       " 4  5  6\n",
       " 5  6  1\n",
       " 2  3  7"
      ]
     },
     "execution_count": 2,
     "metadata": {},
     "output_type": "execute_result"
    }
   ],
   "source": [
    "m=[1 2 3; 4 5 6; 5 6 1; 2 3 7]"
   ]
  },
  {
   "cell_type": "code",
   "execution_count": 3,
   "metadata": {
    "collapsed": false
   },
   "outputs": [
    {
     "data": {
      "text/plain": [
       "4×3 Array{Int64,2}:\n",
       "  0   1   3\n",
       "  1   3   6\n",
       "  5   8  12\n",
       " 10  12  13"
      ]
     },
     "execution_count": 3,
     "metadata": {},
     "output_type": "execute_result"
    }
   ],
   "source": [
    "goldcost=[0 1 3; 1 3 6; 5 8 12; 10 12 13]"
   ]
  },
  {
   "cell_type": "code",
   "execution_count": 4,
   "metadata": {
    "collapsed": false
   },
   "outputs": [
    {
     "data": {
      "text/plain": [
       "4×3 Array{Int64,2}:\n",
       " 9  1  1\n",
       " 0  1  1\n",
       " 0  1  1\n",
       " 0  0  1"
      ]
     },
     "execution_count": 4,
     "metadata": {},
     "output_type": "execute_result"
    }
   ],
   "source": [
    "#0 = ner\n",
    "#1 = höger\n",
    "golddir=[9 1 1; 0 1 1; 0 1 1; 0 0 1]"
   ]
  },
  {
   "cell_type": "code",
   "execution_count": 19,
   "metadata": {
    "collapsed": false
   },
   "outputs": [
    {
     "data": {
      "text/plain": [
       "4×3 Array{Int64,2}:\n",
       "  0   1   3\n",
       "  1   3   6\n",
       "  5   8  12\n",
       " 10  12  13"
      ]
     },
     "metadata": {},
     "output_type": "display_data"
    },
    {
     "data": {
      "text/plain": [
       "4×3 Array{Int64,2}:\n",
       " 9  1  1\n",
       " 0  1  1\n",
       " 0  1  1\n",
       " 0  0  1"
      ]
     },
     "metadata": {},
     "output_type": "display_data"
    },
    {
     "data": {
      "text/plain": [
       "(nothing, nothing)"
      ]
     },
     "execution_count": 19,
     "metadata": {},
     "output_type": "execute_result"
    }
   ],
   "source": [
    "function hej(m)\n",
    "    Y=size(m,1)\n",
    "    X=size(m,2)\n",
    "    dir=ones(Int,(Y,X))\n",
    "    cost=zeros(Int,(Y,X))\n",
    "    for x=1:X,y=1:Y\n",
    "        if x>1\n",
    "            cost[y,x]=cost[y,x-1]+m[y,x-1]\n",
    "            dir[y,x]  = y==1 ? 1 : dir[y,x-1]\n",
    "        end\n",
    "        if y>1\n",
    "            t_cost=cost[y-1,x]+m[y-1,x]\n",
    "            if t_cost<cost[y,x] || x==1\n",
    "                cost[y,x]=t_cost\n",
    "                dir[y,x] = x==1 ? 0 : dir[y-1,x]\n",
    "            end\n",
    "        end\n",
    "    end\n",
    "    dir[1,1]=9\n",
    "    return cost, dir\n",
    "end\n",
    "\n",
    "display.(hej(m))"
   ]
  },
  {
   "cell_type": "code",
   "execution_count": 22,
   "metadata": {
    "collapsed": false
   },
   "outputs": [
    {
     "data": {
      "text/plain": [
       "4×3 Array{Int64,2}:\n",
       "  0   1   3\n",
       "  1   3   6\n",
       "  5   8  12\n",
       " 10  12  13"
      ]
     },
     "metadata": {},
     "output_type": "display_data"
    },
    {
     "data": {
      "text/plain": [
       "4×3 Array{Int64,2}:\n",
       " 9  1  1\n",
       " 0  1  1\n",
       " 0  1  1\n",
       " 0  0  1"
      ]
     },
     "metadata": {},
     "output_type": "display_data"
    },
    {
     "data": {
      "text/plain": [
       "(nothing, nothing)"
      ]
     },
     "execution_count": 22,
     "metadata": {},
     "output_type": "execute_result"
    }
   ],
   "source": [
    "display.((goldcost,golddir))"
   ]
  },
  {
   "cell_type": "code",
   "execution_count": 25,
   "metadata": {
    "collapsed": false
   },
   "outputs": [
    {
     "name": "stdout",
     "output_type": "stream",
     "text": [
      "search: \u001b[1mc\u001b[22m\u001b[1mi\u001b[22m\u001b[1mr\u001b[22m\u001b[1mc\u001b[22m\u001b[1ms\u001b[22m\u001b[1mh\u001b[22m\u001b[1mi\u001b[22m\u001b[1mf\u001b[22m\u001b[1mt\u001b[22m \u001b[1mc\u001b[22m\u001b[1mi\u001b[22m\u001b[1mr\u001b[22m\u001b[1mc\u001b[22m\u001b[1ms\u001b[22m\u001b[1mh\u001b[22m\u001b[1mi\u001b[22m\u001b[1mf\u001b[22m\u001b[1mt\u001b[22m!\n",
      "\n"
     ]
    },
    {
     "data": {
      "text/markdown": [
       "```\n",
       "circshift(A, shifts)\n",
       "```\n",
       "\n",
       "Circularly shift the data in an array. The second argument is a vector giving the amount to shift in each dimension.\n",
       "\n",
       "```jldoctest\n",
       "julia> b = reshape(collect(1:16), (4,4))\n",
       "4×4 Array{Int64,2}:\n",
       " 1  5   9  13\n",
       " 2  6  10  14\n",
       " 3  7  11  15\n",
       " 4  8  12  16\n",
       "\n",
       "julia> circshift(b, (0,2))\n",
       "4×4 Array{Int64,2}:\n",
       "  9  13  1  5\n",
       " 10  14  2  6\n",
       " 11  15  3  7\n",
       " 12  16  4  8\n",
       "\n",
       "julia> circshift(b, (-1,0))\n",
       "4×4 Array{Int64,2}:\n",
       " 2  6  10  14\n",
       " 3  7  11  15\n",
       " 4  8  12  16\n",
       " 1  5   9  13\n",
       "```\n",
       "\n",
       "See also [`circshift!`](@ref).\n"
      ],
      "text/plain": [
       "```\n",
       "circshift(A, shifts)\n",
       "```\n",
       "\n",
       "Circularly shift the data in an array. The second argument is a vector giving the amount to shift in each dimension.\n",
       "\n",
       "```jldoctest\n",
       "julia> b = reshape(collect(1:16), (4,4))\n",
       "4×4 Array{Int64,2}:\n",
       " 1  5   9  13\n",
       " 2  6  10  14\n",
       " 3  7  11  15\n",
       " 4  8  12  16\n",
       "\n",
       "julia> circshift(b, (0,2))\n",
       "4×4 Array{Int64,2}:\n",
       "  9  13  1  5\n",
       " 10  14  2  6\n",
       " 11  15  3  7\n",
       " 12  16  4  8\n",
       "\n",
       "julia> circshift(b, (-1,0))\n",
       "4×4 Array{Int64,2}:\n",
       " 2  6  10  14\n",
       " 3  7  11  15\n",
       " 4  8  12  16\n",
       " 1  5   9  13\n",
       "```\n",
       "\n",
       "See also [`circshift!`](@ref).\n"
      ]
     },
     "execution_count": 25,
     "metadata": {},
     "output_type": "execute_result"
    }
   ],
   "source": [
    "?circshift"
   ]
  },
  {
   "cell_type": "code",
   "execution_count": 29,
   "metadata": {
    "collapsed": false
   },
   "outputs": [
    {
     "name": "stdout",
     "output_type": "stream",
     "text": [
      "search: \u001b[1mf\u001b[22m\u001b[1ml\u001b[22m\u001b[1mi\u001b[22m\u001b[1mp\u001b[22m\u001b[1md\u001b[22m\u001b[1mi\u001b[22m\u001b[1mm\u001b[22m\n",
      "\n"
     ]
    },
    {
     "data": {
      "text/markdown": [
       "```\n",
       "flipdim(A, d::Integer)\n",
       "```\n",
       "\n",
       "Reverse `A` in dimension `d`.\n",
       "\n",
       "```jldoctest\n",
       "julia> b = [1 2; 3 4]\n",
       "2×2 Array{Int64,2}:\n",
       " 1  2\n",
       " 3  4\n",
       "\n",
       "julia> flipdim(b,2)\n",
       "2×2 Array{Int64,2}:\n",
       " 2  1\n",
       " 4  3\n",
       "```\n"
      ],
      "text/plain": [
       "```\n",
       "flipdim(A, d::Integer)\n",
       "```\n",
       "\n",
       "Reverse `A` in dimension `d`.\n",
       "\n",
       "```jldoctest\n",
       "julia> b = [1 2; 3 4]\n",
       "2×2 Array{Int64,2}:\n",
       " 1  2\n",
       " 3  4\n",
       "\n",
       "julia> flipdim(b,2)\n",
       "2×2 Array{Int64,2}:\n",
       " 2  1\n",
       " 4  3\n",
       "```\n"
      ]
     },
     "execution_count": 29,
     "metadata": {},
     "output_type": "execute_result"
    }
   ],
   "source": [
    "?flipdim"
   ]
  },
  {
   "cell_type": "code",
   "execution_count": 33,
   "metadata": {
    "collapsed": false
   },
   "outputs": [
    {
     "data": {
      "text/plain": [
       "4×3 Array{Int64,2}:\n",
       " 1  2  3\n",
       " 4  5  6\n",
       " 5  6  1\n",
       " 2  3  7"
      ]
     },
     "execution_count": 33,
     "metadata": {},
     "output_type": "execute_result"
    }
   ],
   "source": [
    "min.(m,m)"
   ]
  },
  {
   "cell_type": "code",
   "execution_count": 138,
   "metadata": {
    "collapsed": false
   },
   "outputs": [
    {
     "data": {
      "text/plain": [
       "replace! (generic function with 1 method)"
      ]
     },
     "execution_count": 138,
     "metadata": {},
     "output_type": "execute_result"
    }
   ],
   "source": [
    "function replace!(x, KV::Pair{Int,Int}...)\n",
    "    for (k,v) in KV\n",
    "        x[x.==k] = v\n",
    "    end\n",
    "    x\n",
    "end"
   ]
  },
  {
   "cell_type": "code",
   "execution_count": 139,
   "metadata": {
    "collapsed": false
   },
   "outputs": [
    {
     "data": {
      "text/plain": [
       "iq4 (generic function with 2 methods)"
      ]
     },
     "execution_count": 139,
     "metadata": {},
     "output_type": "execute_result"
    }
   ],
   "source": [
    "q1(m) = flipdim(circshift(m, (-1,0)), 1)\n",
    "q2(m) = q1(q3(m))\n",
    "q3(m) = flipdim(circshift(m, (0,-1)), 2)\n",
    "q4(m) = m\n",
    "\n",
    "iq1(m,d) = q1(m), replace!(d, 0 => 2)\n",
    "iq2(m,d) = q2(m), replace!(d, 0 => 2, 1 => 3)\n",
    "iq3(m,d) = q3(m), replace!(d, 1 => 3)\n",
    "iq4(m,d) = q4(m), d"
   ]
  },
  {
   "cell_type": "code",
   "execution_count": 140,
   "metadata": {
    "collapsed": false
   },
   "outputs": [
    {
     "data": {
      "text/plain": [
       "5"
      ]
     },
     "execution_count": 140,
     "metadata": {},
     "output_type": "execute_result"
    }
   ],
   "source": [
    "blaj(ab) = ab[1]+ab[2]\n",
    "(2,3) |> blaj"
   ]
  },
  {
   "cell_type": "code",
   "execution_count": 141,
   "metadata": {
    "collapsed": false
   },
   "outputs": [
    {
     "data": {
      "text/plain": [
       "4×3 Array{Int64,2}:\n",
       " 1  2  3\n",
       " 4  5  6\n",
       " 5  6  1\n",
       " 2  3  7"
      ]
     },
     "execution_count": 141,
     "metadata": {},
     "output_type": "execute_result"
    }
   ],
   "source": [
    "q4(m)"
   ]
  },
  {
   "cell_type": "code",
   "execution_count": 142,
   "metadata": {
    "collapsed": false
   },
   "outputs": [
    {
     "data": {
      "text/plain": [
       "4×3 Array{Int64,2}:\n",
       " 1  2  3\n",
       " 4  5  6\n",
       " 5  6  1\n",
       " 2  3  7"
      ]
     },
     "execution_count": 142,
     "metadata": {},
     "output_type": "execute_result"
    }
   ],
   "source": [
    "iq3(q3(m))"
   ]
  },
  {
   "cell_type": "code",
   "execution_count": 143,
   "metadata": {
    "collapsed": false
   },
   "outputs": [
    {
     "data": {
      "text/plain": [
       "7"
      ]
     },
     "execution_count": 143,
     "metadata": {},
     "output_type": "execute_result"
    }
   ],
   "source": [
    "m[12]"
   ]
  },
  {
   "cell_type": "code",
   "execution_count": 144,
   "metadata": {
    "collapsed": false
   },
   "outputs": [
    {
     "data": {
      "text/plain": [
       "4×3 Array{Int64,2}:\n",
       " 1  2  3\n",
       " 4  5  6\n",
       " 5  6  1\n",
       " 2  3  7"
      ]
     },
     "execution_count": 144,
     "metadata": {},
     "output_type": "execute_result"
    }
   ],
   "source": [
    "m"
   ]
  },
  {
   "cell_type": "code",
   "execution_count": 145,
   "metadata": {
    "collapsed": false
   },
   "outputs": [
    {
     "data": {
      "text/plain": [
       "(7, 12)"
      ]
     },
     "execution_count": 145,
     "metadata": {},
     "output_type": "execute_result"
    }
   ],
   "source": [
    "findmax(m)"
   ]
  },
  {
   "cell_type": "code",
   "execution_count": 147,
   "metadata": {
    "collapsed": false
   },
   "outputs": [
    {
     "data": {
      "text/plain": [
       "([0 5 11; 10 16 13; 7 10 11; 5 7 10], [9 1 1; 2 2 2; 2 2 2; 2 2 2])"
      ]
     },
     "execution_count": 147,
     "metadata": {},
     "output_type": "execute_result"
    }
   ],
   "source": [
    "function travelcost(M, origin)\n",
    "    m = circshift(M, (1-origin[1], 1-origin[2]))\n",
    "    expand(f) = x -> f(x...)\n",
    "    c1,d1 = m |> q1 |> hej |> expand(iq1)\n",
    "    c2,d2 = m |> q2 |> hej |> expand(iq2)\n",
    "    c3,d3 = m |> q3 |> hej |> expand(iq3)\n",
    "    c4,d4 = m |> q4 |> hej |> expand(iq4)\n",
    "    #r = findmin.(c1,c2,c3,c4)\n",
    "    #circshift(r, (origin[1]-1, origin[2]-1))\n",
    "    c1,d1\n",
    "end\n",
    "\n",
    "travelcost(m, [2,2])"
   ]
  },
  {
   "cell_type": "code",
   "execution_count": 148,
   "metadata": {
    "collapsed": false
   },
   "outputs": [
    {
     "data": {
      "text/plain": [
       "4×3 Array{Int64,2}:\n",
       " 1  2  3\n",
       " 4  5  6\n",
       " 5  6  1\n",
       " 2  3  7"
      ]
     },
     "execution_count": 148,
     "metadata": {},
     "output_type": "execute_result"
    }
   ],
   "source": [
    "m"
   ]
  },
  {
   "cell_type": "code",
   "execution_count": 103,
   "metadata": {
    "collapsed": false
   },
   "outputs": [
    {
     "data": {
      "text/plain": [
       "score (generic function with 1 method)"
      ]
     },
     "execution_count": 103,
     "metadata": {},
     "output_type": "execute_result"
    }
   ],
   "source": [
    "# M is halite amount\n",
    "function score(M, ship, shipyard, threshold)\n",
    "    mining = max.(0, M - threshold)\n",
    "    leftovers = min.(mining, threshold)\n",
    "    ignoreshipyard = M[shipyard...]\n",
    "    #travel = travelcost(M, ship) + travelcost(M, shipyard) + leftovers - ignoreshipyard\n",
    "    #return mining - 0.1*travel\n",
    "    travel = travelcost(0.1*M, ship) + travelcost(0.1*M, shipyard) + 0.1*leftovers - 0.1*ignoreshipyard\n",
    "    return mining - travel\n",
    "end"
   ]
  },
  {
   "cell_type": "code",
   "execution_count": 106,
   "metadata": {
    "collapsed": false
   },
   "outputs": [
    {
     "data": {
      "text/plain": [
       "4×3 Array{Float64,2}:\n",
       "  2.9  13.9  21.9\n",
       " 33.9  46.9  50.9\n",
       " 37.9  48.9  -9.1\n",
       " 10.9  19.9  56.9"
      ]
     },
     "execution_count": 106,
     "metadata": {},
     "output_type": "execute_result"
    }
   ],
   "source": [
    "score(HALITE, [2,2], [1,1],1)"
   ]
  },
  {
   "cell_type": "code",
   "execution_count": 105,
   "metadata": {
    "collapsed": false
   },
   "outputs": [
    {
     "data": {
      "text/plain": [
       "4×3 Array{Int64,2}:\n",
       " 10  20  30\n",
       " 40  50  60\n",
       " 50  60  10\n",
       " 20  30  70"
      ]
     },
     "execution_count": 105,
     "metadata": {},
     "output_type": "execute_result"
    }
   ],
   "source": [
    "HALITE=m*10"
   ]
  }
 ],
 "metadata": {
  "kernelspec": {
   "display_name": "Julia 0.6.0",
   "language": "julia",
   "name": "julia-0.6"
  },
  "language_info": {
   "file_extension": ".jl",
   "mimetype": "application/julia",
   "name": "julia",
   "version": "0.6.0"
  }
 },
 "nbformat": 4,
 "nbformat_minor": 2
}
