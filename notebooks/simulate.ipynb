{
 "cells": [
  {
   "cell_type": "code",
   "execution_count": 10,
   "metadata": {
    "collapsed": false
   },
   "outputs": [
    {
     "name": "stderr",
     "output_type": "stream",
     "text": [
      "WARNING: replacing module H.\n",
      "WARNING: replacing module Salboai.\n"
     ]
    }
   ],
   "source": [
    "include(\"../hlt/halite.jl\")\n",
    "include(\"../salboai/salboai.jl\")\n",
    "#include(\"../../hlt/halite.jl\")\n",
    "#include(\"../salboai.jl\")\n",
    "\n",
    "using Test\n",
    "\n",
    "M2 = [90 0 0 0\n",
    "      0  0 0 0\n",
    "      0  0 0 0\n",
    "      0  0 0 0]\n",
    "ship = H.Ship(0, 0, CartesianIndex(2,1), 0)\n",
    "shipyard = CartesianIndex(2,2)\n",
    "\n",
    "C, Ms, S = Salboai.simulate(M2, ship, shipyard, 3);"
   ]
  },
  {
   "cell_type": "code",
   "execution_count": 11,
   "metadata": {
    "collapsed": false
   },
   "outputs": [
    {
     "data": {
      "text/plain": [
       "3-element Array{Any,1}:\n",
       " 'n'\n",
       " 'o'\n",
       " 'n'"
      ]
     },
     "execution_count": 11,
     "metadata": {},
     "output_type": "execute_result"
    }
   ],
   "source": [
    "C #should be \"n o o\""
   ]
  },
  {
   "cell_type": "code",
   "execution_count": 13,
   "metadata": {
    "collapsed": false
   },
   "outputs": [
    {
     "data": {
      "text/plain": [
       "4×4 Array{Int64,2}:\n",
       " 67  0  0  0\n",
       "  0  0  0  0\n",
       "  0  0  0  0\n",
       "  0  0  0  0"
      ]
     },
     "execution_count": 13,
     "metadata": {},
     "output_type": "execute_result"
    }
   ],
   "source": [
    "Ms[2]"
   ]
  }
 ],
 "metadata": {
  "kernelspec": {
   "display_name": "Julia 1.0.1",
   "language": "julia",
   "name": "julia-1.0"
  },
  "language_info": {
   "file_extension": ".jl",
   "mimetype": "application/julia",
   "name": "julia",
   "version": "1.0.1"
  }
 },
 "nbformat": 4,
 "nbformat_minor": 2
}
