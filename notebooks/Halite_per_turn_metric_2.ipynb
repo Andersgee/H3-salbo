{
 "cells": [
  {
   "cell_type": "code",
   "execution_count": 1,
   "metadata": {
    "collapsed": false
   },
   "outputs": [
    {
     "data": {
      "text/plain": [
       "manhattandistmatrices (generic function with 1 method)"
      ]
     },
     "execution_count": 1,
     "metadata": {},
     "output_type": "execute_result"
    }
   ],
   "source": [
    "manhattandist(a,b) = sum(abs.(b-a))\n",
    "\n",
    "function manhattandistmatrices(m,origin)\n",
    "    #with wrap around taken into account\n",
    "    Y=size(m,1)\n",
    "    X=size(m,2)\n",
    "    mhdist_q1=zeros(Int,(Y,X))\n",
    "    mhdist_q2=zeros(Int,(Y,X))\n",
    "    mhdist_q3=zeros(Int,(Y,X))\n",
    "    mhdist_q4=zeros(Int,(Y,X))\n",
    "    o=[origin[1],origin[2]]\n",
    "    for x=1:X, y=1:Y\n",
    "        mhdist_q1[y,x] = manhattandist([Y,1],[y,x])\n",
    "        mhdist_q2[y,x] = manhattandist([Y,X],[y,x])\n",
    "        mhdist_q3[y,x] = manhattandist([1,X],[y,x])\n",
    "        mhdist_q4[y,x] = manhattandist([1,1],[y,x])\n",
    "    end\n",
    "    mhdist_q1 = shiftorigin(mhdist_q1, [Y,1])\n",
    "    mhdist_q2 = shiftorigin(mhdist_q2, [Y,X])\n",
    "    mhdist_q3 = shiftorigin(mhdist_q3, [1,X])\n",
    "    mhdist_q4 = mhdist_q4\n",
    "    \n",
    "    return cat(mhdist_q1, mhdist_q2, mhdist_q3, mhdist_q4, dims=3)\n",
    "end"
   ]
  },
  {
   "cell_type": "code",
   "execution_count": 64,
   "metadata": {
    "collapsed": false
   },
   "outputs": [
    {
     "data": {
      "text/plain": [
       "travelcost (generic function with 1 method)"
      ]
     },
     "execution_count": 64,
     "metadata": {},
     "output_type": "execute_result"
    }
   ],
   "source": [
    "rounddown(a) = round(a, RoundDown)\n",
    "\n",
    "function quadrant_travelcost(m) \n",
    "    # cost: cheapest cost from top left corner to every other square restricted to only South/East moves. (quadrant 4)\n",
    "    # and\n",
    "    # dir: correct FIRST direction to go in order to take that cheapest path\n",
    "    \n",
    "    cost = m*0.1\n",
    "    \n",
    "    Y=size(m,1)\n",
    "    X=size(m,2)\n",
    "    dir=ones(Int,(Y,X))\n",
    "    sumcost=zeros(Int,(Y,X))\n",
    "    for x=1:X,y=1:Y\n",
    "        if x>1\n",
    "            sumcost[y,x] = sumcost[y,x-1] + rounddown(cost[y,x-1])\n",
    "            dir[y,x]  = y==1 ? 1 : dir[y,x-1]\n",
    "        end\n",
    "        if y>1\n",
    "            t_sumcost = sumcost[y-1,x] + rounddown(cost[y-1,x])\n",
    "            if t_sumcost<sumcost[y,x] || x==1\n",
    "                sumcost[y,x]=t_sumcost\n",
    "                dir[y,x] = x==1 ? 0 : dir[y-1,x]\n",
    "            end\n",
    "        end\n",
    "    end\n",
    "    dir[1,1]=4\n",
    "    \n",
    "    return sumcost, dir\n",
    "end\n",
    "\n",
    "q1(m) = reverse(circshift(m, (-1,0)), dims=1)\n",
    "q2(m) = q1(q3(m))\n",
    "q3(m) = reverse(circshift(m, (0,-1)), dims=2)\n",
    "q4(m) = m\n",
    "\n",
    "iq1(m,d) = q1(m), q1(replace(d, 0 => 2))\n",
    "iq2(m,d) = q2(m), q2(replace(d, 0 => 2, 1 => 3))\n",
    "iq3(m,d) = q3(m), q3(replace(d, 1 => 3))\n",
    "iq4(m,d) = q4(m), q4(d)\n",
    "\n",
    "shiftorigin(m, origin) = circshift(m, (1-origin[1], 1-origin[2]))\n",
    "ishiftorigin(m, origin) = circshift(m, (origin[1]-1, origin[2]-1))\n",
    "\n",
    "function travelcost_3d(m, o)\n",
    "    #Cheapest cost from some point to All Other points,\n",
    "    #and what direction to go on First step to take that cheapest path.\n",
    "    #south/east/north/west (in that order 0,1,2,3)\n",
    "    m = shiftorigin(m, o)\n",
    "    expand(f) = x -> f(x...)\n",
    "    c1,d1 = m |> q1 |> quadrant_travelcost |> expand(iq1)\n",
    "    c2,d2 = m |> q2 |> quadrant_travelcost |> expand(iq2)\n",
    "    c3,d3 = m |> q3 |> quadrant_travelcost |> expand(iq3)\n",
    "    c4,d4 = m |> q4 |> quadrant_travelcost |> expand(iq4)\n",
    "    \n",
    "    #3d\n",
    "    D3 = cat(d1, d2, d3, d4, dims=3)\n",
    "    C3 = cat(c1, c2, c3, c4, dims=3)\n",
    "    MHD3 = manhattandistmatrices(m,o)\n",
    "    return ishiftorigin(C3,o), ishiftorigin(D3,o), ishiftorigin(MHD3,o)\n",
    "end\n",
    "\n",
    "\n",
    "cheapest_C(C3) = findmin(C3, dims=3)[1][:,:,1]\n",
    "#cheapest_D(C,D) = [D[y,x,findmin(C[y,x,:])[2]] for y=1:size(D,1), x=1:size(D,2)]\n",
    "\n",
    "function travelcost(m,o)\n",
    "    C3, D3, MHD3 = travelcost_3d(m, o)\n",
    "    \n",
    "    #make sure to pick the one with shortest distance in case cheapest cost is same for several.\n",
    "    C = cheapest_C(C3)\n",
    "    MHD = zeros(Int, size(C))\n",
    "    D = zeros(Int, size(C))\n",
    "    q = collect(1:4) #quartile number\n",
    "    for x=1:size(C,2), y=1:size(C,1)\n",
    "        i = q[C3[y,x,:] .== C[y,x]] #indexes with same minimum cost\n",
    "        MHD[y,x], index = findmin(MHD3[y,x,i]) #pick minimum dist amongst the ones with least cost\n",
    "        D[y,x] = D3[y,x,i][index] #pick the direction corresponding to that picked index\n",
    "    end\n",
    "    return C, D, MHD\n",
    "end"
   ]
  },
  {
   "cell_type": "code",
   "execution_count": 200,
   "metadata": {
    "collapsed": false
   },
   "outputs": [
    {
     "data": {
      "text/plain": [
       "select_direction (generic function with 1 method)"
      ]
     },
     "execution_count": 200,
     "metadata": {},
     "output_type": "execute_result"
    }
   ],
   "source": [
    "function halite_per_turn(m, p_ship, p_shipyard, ship_halite)\n",
    "    #mined halite amount (at some point)\n",
    "    #minus\n",
    "    #cost (from ship, to some point, and then to shipyard)\n",
    "    #divided by\n",
    "    #nr turns to travel there and then to shipyard\n",
    "    #equals\n",
    "    #net halite gained per turn\n",
    "    \n",
    "    mining = ceil.(m .* 0.25)\n",
    "    cost1, direction1, mhd1 = travelcost(m, p_ship)\n",
    "    cost2, direction2, mhd2 = travelcost(m, p_shipyard)\n",
    "    cost2 = cost2 + floor.(Int, (m - mining)*0.1)\n",
    "    \n",
    "    cost = cost1 + cost2\n",
    "    net_gain = (mining - cost) .+ ship_halite\n",
    "    net_gain[p_shipyard[1],p_shipyard[2]] = ship_halite - cost1[p_shipyard[1],p_shipyard[2]]\n",
    "    \n",
    "    mhd = mhd1 .+ mhd2\n",
    "    #hpt = net_gain./mhd\n",
    "    \n",
    "    hpt = net_gain ./ (mhd.+1) #plus 1 since we mined one turn\n",
    "    hpt[p_shipyard[1],p_shipyard[2]] = net_gain[p_shipyard[1],p_shipyard[2]] ./ mhd[p_shipyard[1],p_shipyard[2]]\n",
    "    \n",
    "    if p_ship == p_shipyard\n",
    "        hpt[p_shipyard[1],p_shipyard[2]] = 0\n",
    "    end\n",
    "    \n",
    "    return hpt, cost1, direction1, cost2\n",
    "end\n",
    "\n",
    "within_reach(hpt, cost1, ship_halite) = hpt.*(cost1 .<= ship_halite)\n",
    "\n",
    "function select_direction(m, p_ship, p_shipyard, ship_halite)\n",
    "    hpt, cost1, direction1 = halite_per_turn(m, p_ship, p_shipyard, ship_halite)\n",
    "    hpt_within_reach = within_reach(hpt, cost1, ship_halite)\n",
    "    dir = direction1[findmax(hpt_within_reach)[2]]\n",
    "    return dir\n",
    "end"
   ]
  },
  {
   "cell_type": "code",
   "execution_count": 201,
   "metadata": {
    "collapsed": false
   },
   "outputs": [
    {
     "data": {
      "text/plain": [
       "manhattandistmatrices_johan (generic function with 1 method)"
      ]
     },
     "execution_count": 201,
     "metadata": {},
     "output_type": "execute_result"
    }
   ],
   "source": [
    "function manhattandistmatrices_johan(m, origin)\n",
    "    s = [x + y - 2 for y in 1:size(m,1), x in 1:size(m,2)]\n",
    "    return ishiftorigin(cat(q1(s), q2(s), q3(s), q4(s), dims=3), origin)\n",
    "end"
   ]
  },
  {
   "cell_type": "code",
   "execution_count": 202,
   "metadata": {
    "collapsed": false
   },
   "outputs": [
    {
     "data": {
      "text/plain": [
       "4×4×4 Array{Int64,3}:\n",
       "[:, :, 1] =\n",
       " 0  1  2  3\n",
       " 3  4  5  6\n",
       " 2  3  4  5\n",
       " 1  2  3  4\n",
       "\n",
       "[:, :, 2] =\n",
       " 0  3  2  1\n",
       " 3  6  5  4\n",
       " 2  5  4  3\n",
       " 1  4  3  2\n",
       "\n",
       "[:, :, 3] =\n",
       " 0  3  2  1\n",
       " 1  4  3  2\n",
       " 2  5  4  3\n",
       " 3  6  5  4\n",
       "\n",
       "[:, :, 4] =\n",
       " 0  1  2  3\n",
       " 1  2  3  4\n",
       " 2  3  4  5\n",
       " 3  4  5  6"
      ]
     },
     "execution_count": 202,
     "metadata": {},
     "output_type": "execute_result"
    }
   ],
   "source": [
    "manhattandistmatrices(m,p_ship)"
   ]
  },
  {
   "cell_type": "code",
   "execution_count": 203,
   "metadata": {
    "collapsed": false
   },
   "outputs": [
    {
     "data": {
      "text/plain": [
       "4×4×4 Array{Int64,3}:\n",
       "[:, :, 1] =\n",
       " 4  1  2  3\n",
       " 3  0  1  2\n",
       " 6  3  4  5\n",
       " 5  2  3  4\n",
       "\n",
       "[:, :, 2] =\n",
       " 2  1  4  3\n",
       " 1  0  3  2\n",
       " 4  3  6  5\n",
       " 3  2  5  4\n",
       "\n",
       "[:, :, 3] =\n",
       " 4  3  6  5\n",
       " 1  0  3  2\n",
       " 2  1  4  3\n",
       " 3  2  5  4\n",
       "\n",
       "[:, :, 4] =\n",
       " 6  3  4  5\n",
       " 3  0  1  2\n",
       " 4  1  2  3\n",
       " 5  2  3  4"
      ]
     },
     "execution_count": 203,
     "metadata": {},
     "output_type": "execute_result"
    }
   ],
   "source": [
    "manhattandistmatrices_johan(m,p_ship)"
   ]
  },
  {
   "cell_type": "code",
   "execution_count": null,
   "metadata": {
    "collapsed": true
   },
   "outputs": [],
   "source": []
  },
  {
   "cell_type": "code",
   "execution_count": null,
   "metadata": {
    "collapsed": true
   },
   "outputs": [],
   "source": []
  },
  {
   "cell_type": "code",
   "execution_count": null,
   "metadata": {
    "collapsed": true
   },
   "outputs": [],
   "source": []
  },
  {
   "cell_type": "code",
   "execution_count": 189,
   "metadata": {
    "collapsed": false
   },
   "outputs": [
    {
     "data": {
      "text/plain": [
       "4×4 Array{Int64,2}:\n",
       " 0  70   0  0\n",
       " 0   0  90  0\n",
       " 0  50   0  0\n",
       " 0   0   0  0"
      ]
     },
     "execution_count": 189,
     "metadata": {},
     "output_type": "execute_result"
    }
   ],
   "source": [
    "p_ship = [2,2]\n",
    "p_shipyard = [4,4]\n",
    "ship_halite = 0\n",
    "\n",
    "m=[0 70 0 0;\n",
    "    0 0 90 0;\n",
    "    0 50 0 0;\n",
    "    0 0 0 0]\n",
    "\n",
    "m[p_shipyard[1],p_shipyard[2]]=0 #(make sure shipyard has 0 halite when constructing matrix manually)\n",
    "m"
   ]
  },
  {
   "cell_type": "code",
   "execution_count": 190,
   "metadata": {
    "collapsed": false
   },
   "outputs": [
    {
     "data": {
      "text/plain": [
       "4×4 Array{Int64,2}:\n",
       " 0  0  0  0\n",
       " 0  0  0  0\n",
       " 0  0  0  0\n",
       " 0  5  0  0"
      ]
     },
     "execution_count": 190,
     "metadata": {},
     "output_type": "execute_result"
    }
   ],
   "source": [
    "C, D, MHD = travelcost(m, p_ship)\n",
    "C"
   ]
  },
  {
   "cell_type": "code",
   "execution_count": 191,
   "metadata": {
    "collapsed": false
   },
   "outputs": [
    {
     "data": {
      "text/plain": [
       "4×4 Array{Int64,2}:\n",
       " 3  2  3  3\n",
       " 3  4  1  3\n",
       " 3  0  3  3\n",
       " 3  0  3  3"
      ]
     },
     "execution_count": 191,
     "metadata": {},
     "output_type": "execute_result"
    }
   ],
   "source": [
    "D"
   ]
  },
  {
   "cell_type": "code",
   "execution_count": 192,
   "metadata": {
    "collapsed": false
   },
   "outputs": [
    {
     "data": {
      "text/plain": [
       "4×4 Array{Int64,2}:\n",
       " 2  1  4  3\n",
       " 1  0  1  2\n",
       " 2  1  4  3\n",
       " 3  2  5  4"
      ]
     },
     "execution_count": 192,
     "metadata": {},
     "output_type": "execute_result"
    }
   ],
   "source": [
    "MHD"
   ]
  },
  {
   "cell_type": "code",
   "execution_count": 204,
   "metadata": {
    "collapsed": false
   },
   "outputs": [
    {
     "data": {
      "text/plain": [
       "4×4 Array{Float64,2}:\n",
       " 0.6   3.2  0.428571  0.6 \n",
       " 0.6   0.6  4.0       0.6 \n",
       " 0.6   2.6  0.428571  0.6 \n",
       " 0.6  -0.4  0.428571  0.75"
      ]
     },
     "execution_count": 204,
     "metadata": {},
     "output_type": "execute_result"
    }
   ],
   "source": [
    "hpt, cost1, direction1, cost2 = halite_per_turn(m, p_ship, p_shipyard, ship_halite)\n",
    "hpt"
   ]
  },
  {
   "cell_type": "code",
   "execution_count": 205,
   "metadata": {
    "collapsed": false
   },
   "outputs": [
    {
     "data": {
      "text/plain": [
       "4×4 Array{Int64,2}:\n",
       " 0  0  0  0\n",
       " 0  0  0  0\n",
       " 0  0  0  0\n",
       " 0  5  0  0"
      ]
     },
     "execution_count": 205,
     "metadata": {},
     "output_type": "execute_result"
    }
   ],
   "source": [
    "cost1"
   ]
  },
  {
   "cell_type": "code",
   "execution_count": 206,
   "metadata": {
    "collapsed": false
   },
   "outputs": [
    {
     "data": {
      "text/plain": [
       "4×4 Array{Int64,2}:\n",
       " 3  2  3  3\n",
       " 3  4  1  3\n",
       " 3  0  3  3\n",
       " 3  0  3  3"
      ]
     },
     "execution_count": 206,
     "metadata": {},
     "output_type": "execute_result"
    }
   ],
   "source": [
    "direction1"
   ]
  },
  {
   "cell_type": "code",
   "execution_count": 163,
   "metadata": {
    "collapsed": false
   },
   "outputs": [
    {
     "data": {
      "text/plain": [
       "3.15"
      ]
     },
     "execution_count": 163,
     "metadata": {},
     "output_type": "execute_result"
    }
   ],
   "source": [
    "(90*0.25 -67.5*0.1)/5 # [2,3] should have value 3.15"
   ]
  },
  {
   "cell_type": "code",
   "execution_count": 164,
   "metadata": {
    "collapsed": false
   },
   "outputs": [
    {
     "data": {
      "text/plain": [
       "4×4 Array{Int64,2}:\n",
       " 2  3  2  1\n",
       " 3  4  3  2\n",
       " 2  3  2  1\n",
       " 1  2  1  0"
      ]
     },
     "execution_count": 164,
     "metadata": {},
     "output_type": "execute_result"
    }
   ],
   "source": [
    "cost2, direction2, mhd2 = travelcost(m, p_shipyard)\n",
    "mhd2"
   ]
  },
  {
   "cell_type": "code",
   "execution_count": 165,
   "metadata": {
    "collapsed": false
   },
   "outputs": [
    {
     "data": {
      "text/plain": [
       "4×4 Array{Int64,2}:\n",
       " 0  0  0  0\n",
       " 2  2  2  2\n",
       " 2  2  2  2\n",
       " 1  1  3  4"
      ]
     },
     "execution_count": 165,
     "metadata": {},
     "output_type": "execute_result"
    }
   ],
   "source": [
    "direction2"
   ]
  },
  {
   "cell_type": "code",
   "execution_count": 166,
   "metadata": {
    "collapsed": false
   },
   "outputs": [
    {
     "data": {
      "text/plain": [
       "4×4 Array{Int64,2}:\n",
       " 0  0  0  0\n",
       " 0  0  0  0\n",
       " 0  0  0  0\n",
       " 0  0  0  0"
      ]
     },
     "execution_count": 166,
     "metadata": {},
     "output_type": "execute_result"
    }
   ],
   "source": [
    "cost2"
   ]
  },
  {
   "cell_type": "code",
   "execution_count": 185,
   "metadata": {
    "collapsed": false
   },
   "outputs": [
    {
     "data": {
      "text/plain": [
       "4.0"
      ]
     },
     "execution_count": 185,
     "metadata": {},
     "output_type": "execute_result"
    }
   ],
   "source": [
    "(ceil(90*0.25) - floor((90-23)*0.1) + 3)/5"
   ]
  },
  {
   "cell_type": "code",
   "execution_count": 198,
   "metadata": {
    "collapsed": false
   },
   "outputs": [
    {
     "data": {
      "text/plain": [
       "1"
      ]
     },
     "execution_count": 198,
     "metadata": {},
     "output_type": "execute_result"
    }
   ],
   "source": [
    "p_ship = [2,2]\n",
    "p_shipyard = [4,4]\n",
    "ship_halite = 3\n",
    "\n",
    "m=[0 70 0 0;\n",
    "    0 0 90 0;\n",
    "    0 50 0 0;\n",
    "    0 0 0 0]\n",
    "select_direction(m, p_ship, p_shipyard, ship_halite)"
   ]
  },
  {
   "cell_type": "code",
   "execution_count": 199,
   "metadata": {
    "collapsed": false
   },
   "outputs": [
    {
     "data": {
      "text/plain": [
       "4×4 Array{Float64,2}:\n",
       " 0.6   3.2  0.428571  0.6 \n",
       " 0.6   0.6  4.0       0.6 \n",
       " 0.6   2.6  0.428571  0.6 \n",
       " 0.6  -0.4  0.428571  0.75"
      ]
     },
     "execution_count": 199,
     "metadata": {},
     "output_type": "execute_result"
    }
   ],
   "source": [
    "hpt, cost1, direction1 = halite_per_turn(m, p_ship, p_shipyard, ship_halite)\n",
    "hpt"
   ]
  },
  {
   "cell_type": "code",
   "execution_count": null,
   "metadata": {
    "collapsed": true
   },
   "outputs": [],
   "source": []
  },
  {
   "cell_type": "code",
   "execution_count": 168,
   "metadata": {
    "collapsed": false
   },
   "outputs": [
    {
     "data": {
      "text/plain": [
       "3"
      ]
     },
     "execution_count": 168,
     "metadata": {},
     "output_type": "execute_result"
    }
   ],
   "source": [
    "m = [0 0 0 0\n",
    "      0 0 0 0\n",
    "      0 0 0 0\n",
    "      0 0 10 0]\n",
    "\n",
    "p_ship = [2,3]\n",
    "p_shipyard = [2,2]\n",
    "ship_halite= 3\n",
    "select_direction(m, p_ship, p_shipyard, ship_halite)"
   ]
  },
  {
   "cell_type": "code",
   "execution_count": 175,
   "metadata": {
    "collapsed": false
   },
   "outputs": [
    {
     "data": {
      "text/plain": [
       "4×4 Array{Float64,2}:\n",
       " 0.5    0.75  0.75  0.5  \n",
       " 0.75   3.0   1.5   0.75 \n",
       " 0.5    0.75  0.75  0.5  \n",
       " 0.375  0.5   1.0   0.375"
      ]
     },
     "execution_count": 175,
     "metadata": {},
     "output_type": "execute_result"
    }
   ],
   "source": [
    "hpt, cost1, direction1 = halite_per_turn(m, p_ship, p_shipyard, ship_halite)\n",
    "hpt"
   ]
  },
  {
   "cell_type": "code",
   "execution_count": null,
   "metadata": {
    "collapsed": true
   },
   "outputs": [],
   "source": []
  },
  {
   "cell_type": "code",
   "execution_count": null,
   "metadata": {
    "collapsed": true
   },
   "outputs": [],
   "source": []
  }
 ],
 "metadata": {
  "kernelspec": {
   "display_name": "Julia 1.0.1",
   "language": "julia",
   "name": "julia-1.0"
  },
  "language_info": {
   "file_extension": ".jl",
   "mimetype": "application/julia",
   "name": "julia",
   "version": "1.0.1"
  }
 },
 "nbformat": 4,
 "nbformat_minor": 2
}
