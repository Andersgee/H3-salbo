{
 "cells": [
  {
   "cell_type": "code",
   "execution_count": 2,
   "metadata": {
    "collapsed": false
   },
   "outputs": [
    {
     "data": {
      "text/plain": [
       "4×3 Array{Int64,2}:\n",
       " 1  2  3\n",
       " 4  5  6\n",
       " 5  6  1\n",
       " 2  3  7"
      ]
     },
     "execution_count": 2,
     "metadata": {},
     "output_type": "execute_result"
    }
   ],
   "source": [
    "m=[1 2 3; 4 5 6; 5 6 1; 2 3 7]"
   ]
  },
  {
   "cell_type": "code",
   "execution_count": 3,
   "metadata": {
    "collapsed": false
   },
   "outputs": [
    {
     "data": {
      "text/plain": [
       "4×3 Array{Int64,2}:\n",
       "  0   1   3\n",
       "  1   3   6\n",
       "  5   8  12\n",
       " 10  12  13"
      ]
     },
     "execution_count": 3,
     "metadata": {},
     "output_type": "execute_result"
    }
   ],
   "source": [
    "goldcost=[0 1 3; 1 3 6; 5 8 12; 10 12 13]"
   ]
  },
  {
   "cell_type": "code",
   "execution_count": 4,
   "metadata": {
    "collapsed": false
   },
   "outputs": [
    {
     "data": {
      "text/plain": [
       "4×3 Array{Int64,2}:\n",
       " 9  1  1\n",
       " 0  1  1\n",
       " 0  1  1\n",
       " 0  0  1"
      ]
     },
     "execution_count": 4,
     "metadata": {},
     "output_type": "execute_result"
    }
   ],
   "source": [
    "#0 = ner\n",
    "#1 = höger\n",
    "golddir=[9 1 1; 0 1 1; 0 1 1; 0 0 1]"
   ]
  },
  {
   "cell_type": "code",
   "execution_count": 101,
   "metadata": {
    "collapsed": false
   },
   "outputs": [
    {
     "data": {
      "text/plain": [
       "4×3 Array{Int64,2}:\n",
       "  0   1   3\n",
       "  1   3   6\n",
       "  5   8  12\n",
       " 10  12  13"
      ]
     },
     "metadata": {},
     "output_type": "display_data"
    },
    {
     "data": {
      "text/plain": [
       "4×3 Array{Int64,2}:\n",
       " 9  1  1\n",
       " 0  1  1\n",
       " 0  1  1\n",
       " 0  0  1"
      ]
     },
     "metadata": {},
     "output_type": "display_data"
    },
    {
     "data": {
      "text/plain": [
       "(nothing, nothing)"
      ]
     },
     "execution_count": 101,
     "metadata": {},
     "output_type": "execute_result"
    }
   ],
   "source": [
    "function hej(m)\n",
    "    Y=size(m,1)\n",
    "    X=size(m,2)\n",
    "    dir=ones(Int,(Y,X))\n",
    "    cost=zeros(Int,(Y,X))\n",
    "    for x=1:X,y=1:Y\n",
    "        if x>1\n",
    "            cost[y,x]=cost[y,x-1]+m[y,x-1]\n",
    "            dir[y,x]  = y==1 ? 1 : dir[y,x-1]\n",
    "        end\n",
    "        if y>1\n",
    "            t_cost=cost[y-1,x]+m[y-1,x]\n",
    "            if t_cost<cost[y,x] || x==1\n",
    "                cost[y,x]=t_cost\n",
    "                dir[y,x] = x==1 ? 0 : dir[y-1,x]\n",
    "            end\n",
    "        end\n",
    "    end\n",
    "    dir[1,1]=9\n",
    "    return cost, dir\n",
    "end\n",
    "\n",
    "display.(hej(m))"
   ]
  },
  {
   "cell_type": "code",
   "execution_count": 102,
   "metadata": {
    "collapsed": false
   },
   "outputs": [
    {
     "data": {
      "text/plain": [
       "4×3 Array{Int64,2}:\n",
       "  0   1   3\n",
       "  1   3   6\n",
       "  5   8  12\n",
       " 10  12  13"
      ]
     },
     "metadata": {},
     "output_type": "display_data"
    },
    {
     "data": {
      "text/plain": [
       "4×3 Array{Int64,2}:\n",
       " 9  1  1\n",
       " 0  1  1\n",
       " 0  1  1\n",
       " 0  0  1"
      ]
     },
     "metadata": {},
     "output_type": "display_data"
    },
    {
     "data": {
      "text/plain": [
       "(nothing, nothing)"
      ]
     },
     "execution_count": 102,
     "metadata": {},
     "output_type": "execute_result"
    }
   ],
   "source": [
    "display.((goldcost,golddir))"
   ]
  },
  {
   "cell_type": "code",
   "execution_count": 103,
   "metadata": {
    "collapsed": false
   },
   "outputs": [
    {
     "name": "stdout",
     "output_type": "stream",
     "text": [
      "search: \u001b[1mc\u001b[22m\u001b[1mi\u001b[22m\u001b[1mr\u001b[22m\u001b[1mc\u001b[22m\u001b[1ms\u001b[22m\u001b[1mh\u001b[22m\u001b[1mi\u001b[22m\u001b[1mf\u001b[22m\u001b[1mt\u001b[22m \u001b[1mc\u001b[22m\u001b[1mi\u001b[22m\u001b[1mr\u001b[22m\u001b[1mc\u001b[22m\u001b[1ms\u001b[22m\u001b[1mh\u001b[22m\u001b[1mi\u001b[22m\u001b[1mf\u001b[22m\u001b[1mt\u001b[22m!\n",
      "\n"
     ]
    },
    {
     "data": {
      "text/markdown": [
       "```\n",
       "circshift(A, shifts)\n",
       "```\n",
       "\n",
       "Circularly shift the data in an array. The second argument is a vector giving the amount to shift in each dimension.\n",
       "\n",
       "```jldoctest\n",
       "julia> b = reshape(collect(1:16), (4,4))\n",
       "4×4 Array{Int64,2}:\n",
       " 1  5   9  13\n",
       " 2  6  10  14\n",
       " 3  7  11  15\n",
       " 4  8  12  16\n",
       "\n",
       "julia> circshift(b, (0,2))\n",
       "4×4 Array{Int64,2}:\n",
       "  9  13  1  5\n",
       " 10  14  2  6\n",
       " 11  15  3  7\n",
       " 12  16  4  8\n",
       "\n",
       "julia> circshift(b, (-1,0))\n",
       "4×4 Array{Int64,2}:\n",
       " 2  6  10  14\n",
       " 3  7  11  15\n",
       " 4  8  12  16\n",
       " 1  5   9  13\n",
       "```\n",
       "\n",
       "See also [`circshift!`](@ref).\n"
      ],
      "text/plain": [
       "```\n",
       "circshift(A, shifts)\n",
       "```\n",
       "\n",
       "Circularly shift the data in an array. The second argument is a vector giving the amount to shift in each dimension.\n",
       "\n",
       "```jldoctest\n",
       "julia> b = reshape(collect(1:16), (4,4))\n",
       "4×4 Array{Int64,2}:\n",
       " 1  5   9  13\n",
       " 2  6  10  14\n",
       " 3  7  11  15\n",
       " 4  8  12  16\n",
       "\n",
       "julia> circshift(b, (0,2))\n",
       "4×4 Array{Int64,2}:\n",
       "  9  13  1  5\n",
       " 10  14  2  6\n",
       " 11  15  3  7\n",
       " 12  16  4  8\n",
       "\n",
       "julia> circshift(b, (-1,0))\n",
       "4×4 Array{Int64,2}:\n",
       " 2  6  10  14\n",
       " 3  7  11  15\n",
       " 4  8  12  16\n",
       " 1  5   9  13\n",
       "```\n",
       "\n",
       "See also [`circshift!`](@ref).\n"
      ]
     },
     "execution_count": 103,
     "metadata": {},
     "output_type": "execute_result"
    }
   ],
   "source": [
    "?circshift"
   ]
  },
  {
   "cell_type": "code",
   "execution_count": 104,
   "metadata": {
    "collapsed": false
   },
   "outputs": [
    {
     "name": "stdout",
     "output_type": "stream",
     "text": [
      "search: \u001b[1mf\u001b[22m\u001b[1ml\u001b[22m\u001b[1mi\u001b[22m\u001b[1mp\u001b[22m\u001b[1md\u001b[22m\u001b[1mi\u001b[22m\u001b[1mm\u001b[22m\n",
      "\n"
     ]
    },
    {
     "data": {
      "text/markdown": [
       "```\n",
       "flipdim(A, d::Integer)\n",
       "```\n",
       "\n",
       "Reverse `A` in dimension `d`.\n",
       "\n",
       "```jldoctest\n",
       "julia> b = [1 2; 3 4]\n",
       "2×2 Array{Int64,2}:\n",
       " 1  2\n",
       " 3  4\n",
       "\n",
       "julia> flipdim(b,2)\n",
       "2×2 Array{Int64,2}:\n",
       " 2  1\n",
       " 4  3\n",
       "```\n"
      ],
      "text/plain": [
       "```\n",
       "flipdim(A, d::Integer)\n",
       "```\n",
       "\n",
       "Reverse `A` in dimension `d`.\n",
       "\n",
       "```jldoctest\n",
       "julia> b = [1 2; 3 4]\n",
       "2×2 Array{Int64,2}:\n",
       " 1  2\n",
       " 3  4\n",
       "\n",
       "julia> flipdim(b,2)\n",
       "2×2 Array{Int64,2}:\n",
       " 2  1\n",
       " 4  3\n",
       "```\n"
      ]
     },
     "execution_count": 104,
     "metadata": {},
     "output_type": "execute_result"
    }
   ],
   "source": [
    "?flipdim"
   ]
  },
  {
   "cell_type": "code",
   "execution_count": 105,
   "metadata": {
    "collapsed": false
   },
   "outputs": [
    {
     "data": {
      "text/plain": [
       "4×3 Array{Int64,2}:\n",
       " 1  2  3\n",
       " 4  5  6\n",
       " 5  6  1\n",
       " 2  3  7"
      ]
     },
     "execution_count": 105,
     "metadata": {},
     "output_type": "execute_result"
    }
   ],
   "source": [
    "min.(m,m)"
   ]
  },
  {
   "cell_type": "code",
   "execution_count": 106,
   "metadata": {
    "collapsed": false
   },
   "outputs": [
    {
     "data": {
      "text/plain": [
       "replace! (generic function with 1 method)"
      ]
     },
     "execution_count": 106,
     "metadata": {},
     "output_type": "execute_result"
    }
   ],
   "source": [
    "function replace!(x, KV::Pair{Int,Int}...)\n",
    "    for (k,v) in KV\n",
    "        x[x.==k] = v\n",
    "    end\n",
    "    x\n",
    "end"
   ]
  },
  {
   "cell_type": "code",
   "execution_count": 107,
   "metadata": {
    "collapsed": false
   },
   "outputs": [
    {
     "data": {
      "text/plain": [
       "iq4 (generic function with 1 method)"
      ]
     },
     "execution_count": 107,
     "metadata": {},
     "output_type": "execute_result"
    }
   ],
   "source": [
    "q1(m) = flipdim(circshift(m, (-1,0)), 1)\n",
    "q2(m) = q1(q3(m))\n",
    "q3(m) = flipdim(circshift(m, (0,-1)), 2)\n",
    "q4(m) = m\n",
    "\n",
    "iq1(m,d) = q1(m), replace!(d, 0 => 2)\n",
    "iq2(m,d) = q2(m), replace!(d, 0 => 2, 1 => 3)\n",
    "iq3(m,d) = q3(m), replace!(d, 1 => 3)\n",
    "iq4(m,d) = q4(m), d"
   ]
  },
  {
   "cell_type": "code",
   "execution_count": 108,
   "metadata": {
    "collapsed": false
   },
   "outputs": [
    {
     "data": {
      "text/plain": [
       "shiftorigin (generic function with 1 method)"
      ]
     },
     "execution_count": 108,
     "metadata": {},
     "output_type": "execute_result"
    }
   ],
   "source": [
    "shiftorigin(m, origin) = circshift(M, (1-origin[1], 1-origin[2]))\n",
    "ishiftorigin(m, origin) = circshift(m, (origin[1]-1, origin[2]-1))"
   ]
  },
  {
   "cell_type": "code",
   "execution_count": 140,
   "metadata": {
    "collapsed": false
   },
   "outputs": [
    {
     "data": {
      "text/plain": [
       "([11 9 11; 11 6 7; 6 0 6; 9 6 7], [0 0 0; 2 2 2; 3 9 1; 0 0 1])"
      ]
     },
     "execution_count": 140,
     "metadata": {},
     "output_type": "execute_result"
    }
   ],
   "source": [
    "function travelcost(M, origin)\n",
    "    m = shiftorigin(m, origin)\n",
    "    expand(f) = x -> f(x...)\n",
    "    c1,d1 = m |> q1 |> hej |> expand(iq1)\n",
    "    c2,d2 = m |> q2 |> hej |> expand(iq2)\n",
    "    c3,d3 = m |> q3 |> hej |> expand(iq3)\n",
    "    c4,d4 = m |> q4 |> hej |> expand(iq4)\n",
    "    \n",
    "    D = cat(3, d1,d2,d3,d4)\n",
    "    C = cat(3, c1,c2,c3,c4)\n",
    "    v, i = findmin(C,3)\n",
    "    \n",
    "    C = ishiftorigin(C[i][:,:,1], origin)\n",
    "    D = ishiftorigin(D[i][:,:,1], origin)\n",
    "    \n",
    "    return C, D\n",
    "end\n",
    "\n",
    "c, d = travelcost(m, [3,2])"
   ]
  },
  {
   "cell_type": "code",
   "execution_count": 123,
   "metadata": {
    "collapsed": false
   },
   "outputs": [
    {
     "data": {
      "text/plain": [
       "4×3 Array{Int64,2}:\n",
       " 11  9  11\n",
       " 11  6   7\n",
       "  6  0   6\n",
       "  9  6   7"
      ]
     },
     "execution_count": 123,
     "metadata": {},
     "output_type": "execute_result"
    }
   ],
   "source": [
    "c = travelcost(m, [3,2])[1]"
   ]
  },
  {
   "cell_type": "code",
   "execution_count": 141,
   "metadata": {
    "collapsed": false
   },
   "outputs": [
    {
     "data": {
      "text/plain": [
       "score (generic function with 1 method)"
      ]
     },
     "execution_count": 141,
     "metadata": {},
     "output_type": "execute_result"
    }
   ],
   "source": [
    "# M is halite amount\n",
    "function score(M, ship, shipyard, threshold)\n",
    "    mining = max.(0, M - threshold)\n",
    "    leftovers = min.(mining, threshold)\n",
    "    ignoreshipyard = M[shipyard...]\n",
    "    #travel = travelcost(M, ship) + travelcost(M, shipyard) + leftovers - ignoreshipyard\n",
    "    #return mining - 0.1*travel\n",
    "    cost1, direction1 = travelcost(0.1*M, ship)\n",
    "    cost2, direction2 = travelcost(0.1*M, shipyard)\n",
    "    \n",
    "    cost = cost1 + cost2 + 0.1*leftovers - 0.1*ignoreshipyard\n",
    "    direction = direction1\n",
    "    \n",
    "    score = mining - cost\n",
    "    return score, direction\n",
    "end"
   ]
  },
  {
   "cell_type": "code",
   "execution_count": 158,
   "metadata": {
    "collapsed": false
   },
   "outputs": [
    {
     "data": {
      "text/plain": [
       "([0.9 8.9 21.9; 28.9 34.9 47.9; 38.9 45.9 -5.1; 11.9 19.9 66.9], [1 0 0; 1 0 2; 2 2 2; 1 3 9])"
      ]
     },
     "execution_count": 158,
     "metadata": {},
     "output_type": "execute_result"
    }
   ],
   "source": [
    "HALITE=m*10\n",
    "ship = [4,3]\n",
    "shipyard = [1,1]\n",
    "threshold = 1\n",
    "s, d = score(HALITE, ship, shipyard, threshold)"
   ]
  },
  {
   "cell_type": "code",
   "execution_count": 159,
   "metadata": {
    "collapsed": false
   },
   "outputs": [
    {
     "data": {
      "text/plain": [
       "4×3 Array{Float64,2}:\n",
       "  0.9   8.9  21.9\n",
       " 28.9  34.9  47.9\n",
       " 38.9  45.9  -5.1\n",
       " 11.9  19.9  66.9"
      ]
     },
     "execution_count": 159,
     "metadata": {},
     "output_type": "execute_result"
    }
   ],
   "source": [
    "s"
   ]
  },
  {
   "cell_type": "code",
   "execution_count": 160,
   "metadata": {
    "collapsed": false
   },
   "outputs": [
    {
     "data": {
      "text/plain": [
       "4×3 Array{Int64,2}:\n",
       " 1  0  0\n",
       " 1  0  2\n",
       " 2  2  2\n",
       " 1  3  9"
      ]
     },
     "execution_count": 160,
     "metadata": {},
     "output_type": "execute_result"
    }
   ],
   "source": [
    "d"
   ]
  },
  {
   "cell_type": "code",
   "execution_count": 161,
   "metadata": {
    "collapsed": false
   },
   "outputs": [
    {
     "data": {
      "text/plain": [
       "4×3 Array{Int64,2}:\n",
       " 10  20  30\n",
       " 40  50  60\n",
       " 50  60  10\n",
       " 20  30  70"
      ]
     },
     "execution_count": 161,
     "metadata": {},
     "output_type": "execute_result"
    }
   ],
   "source": [
    "HALITE"
   ]
  },
  {
   "cell_type": "code",
   "execution_count": null,
   "metadata": {
    "collapsed": true
   },
   "outputs": [],
   "source": []
  }
 ],
 "metadata": {
  "kernelspec": {
   "display_name": "Julia 0.6.0",
   "language": "julia",
   "name": "julia-0.6"
  },
  "language_info": {
   "file_extension": ".jl",
   "mimetype": "application/julia",
   "name": "julia",
   "version": "0.6.0"
  }
 },
 "nbformat": 4,
 "nbformat_minor": 2
}
