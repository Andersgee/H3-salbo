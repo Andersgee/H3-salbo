{
 "cells": [
  {
   "cell_type": "code",
   "execution_count": 1,
   "metadata": {
    "collapsed": false
   },
   "outputs": [
    {
     "data": {
      "text/plain": [
       "newship (generic function with 1 method)"
      ]
     },
     "execution_count": 1,
     "metadata": {},
     "output_type": "execute_result"
    }
   ],
   "source": [
    "include(\"../hlt/halite.jl\")\n",
    "include(\"../salboai/salboai.jl\")\n",
    "#using Main.Salboai\n",
    "\n",
    "newship(y,x,h) = H.Ship(0, 1, CartesianIndex(y,x), h)"
   ]
  },
  {
   "cell_type": "code",
   "execution_count": 2,
   "metadata": {
    "collapsed": false
   },
   "outputs": [
    {
     "data": {
      "text/plain": [
       "4×4 Array{Int64,2}:\n",
       " 0  70   0  0\n",
       " 0   0  90  0\n",
       " 0  50   0  0\n",
       " 0   0   0  0"
      ]
     },
     "execution_count": 2,
     "metadata": {},
     "output_type": "execute_result"
    }
   ],
   "source": [
    "m=[0 70 0 0;\n",
    "    0 0 90 0;\n",
    "    0 50 0 0;\n",
    "    0 0 0 0]"
   ]
  },
  {
   "cell_type": "code",
   "execution_count": 3,
   "metadata": {
    "collapsed": false,
    "scrolled": true
   },
   "outputs": [],
   "source": [
    "shipyard = CartesianIndex(4,4)\n",
    "ships = [newship(2,2, 0), newship(2,3, 0), newship(4,1, 0), newship(4,2, 0), newship(4,3, 0), newship(4,4, 0)]\n",
    "\n",
    "dirs = Vector{Char}[]\n",
    "targets = Vector{CartesianIndex}[]\n",
    "targets_hpt = Vector{Float64}[]\n",
    "for ship in ships\n",
    "    dir, target, target_hpt = Salboai.candidate_targets(m, ship, shipyard, false)\n",
    "    push!(dirs, dir)\n",
    "    push!(targets, target)\n",
    "    push!(targets_hpt, target_hpt)\n",
    "end"
   ]
  },
  {
   "cell_type": "code",
   "execution_count": 4,
   "metadata": {
    "collapsed": false
   },
   "outputs": [
    {
     "data": {
      "text/plain": [
       "4×4 Array{Int64,2}:\n",
       " 0  70   0  0\n",
       " 0   0  90  0\n",
       " 0  50   0  0\n",
       " 0   0   0  0"
      ]
     },
     "execution_count": 4,
     "metadata": {},
     "output_type": "execute_result"
    }
   ],
   "source": [
    "m"
   ]
  },
  {
   "cell_type": "code",
   "execution_count": 5,
   "metadata": {
    "collapsed": false
   },
   "outputs": [
    {
     "data": {
      "text/plain": [
       "5×3 Array{Any,2}:\n",
       " 'e'  CartesianIndex(2, 3)  3.4\n",
       " 'n'  CartesianIndex(1, 2)  2.6\n",
       " 's'  CartesianIndex(3, 2)  2.0\n",
       " 'w'  CartesianIndex(1, 1)  0.0\n",
       " 'o'  CartesianIndex(2, 2)  0.0"
      ]
     },
     "execution_count": 5,
     "metadata": {},
     "output_type": "execute_result"
    }
   ],
   "source": [
    "i=1\n",
    "[dirs[i] targets[i] targets_hpt[i]]"
   ]
  },
  {
   "cell_type": "code",
   "execution_count": 6,
   "metadata": {
    "collapsed": false
   },
   "outputs": [
    {
     "data": {
      "text/plain": [
       "5×3 Array{Any,2}:\n",
       " 'o'  CartesianIndex(2, 3)     4.25\n",
       " 'n'  CartesianIndex(1, 1)  -Inf   \n",
       " 'n'  CartesianIndex(1, 1)  -Inf   \n",
       " 'n'  CartesianIndex(1, 1)  -Inf   \n",
       " 'n'  CartesianIndex(1, 1)  -Inf   "
      ]
     },
     "execution_count": 6,
     "metadata": {},
     "output_type": "execute_result"
    }
   ],
   "source": [
    "i=2\n",
    "[dirs[i] targets[i] targets_hpt[i]]"
   ]
  },
  {
   "cell_type": "code",
   "execution_count": 7,
   "metadata": {
    "collapsed": false
   },
   "outputs": [
    {
     "data": {
      "text/plain": [
       "5×3 Array{Any,2}:\n",
       " 's'  CartesianIndex(1, 2)  2.16667\n",
       " 'n'  CartesianIndex(2, 3)  2.125  \n",
       " 'o'  CartesianIndex(4, 1)  0.0    \n",
       " 'e'  CartesianIndex(4, 2)  0.0    \n",
       " 'w'  CartesianIndex(4, 4)  0.0    "
      ]
     },
     "execution_count": 7,
     "metadata": {},
     "output_type": "execute_result"
    }
   ],
   "source": [
    "i=3\n",
    "[dirs[i] targets[i] targets_hpt[i]]"
   ]
  },
  {
   "cell_type": "code",
   "execution_count": 8,
   "metadata": {
    "collapsed": false
   },
   "outputs": [],
   "source": [
    "dirs, targets = Salboai.exclusive_candidate1_targets!(dirs, targets, targets_hpt, shipyard);"
   ]
  },
  {
   "cell_type": "code",
   "execution_count": 9,
   "metadata": {
    "collapsed": false
   },
   "outputs": [
    {
     "data": {
      "text/plain": [
       "6-element Array{CartesianIndex{2},1}:\n",
       " CartesianIndex(1, 2)\n",
       " CartesianIndex(2, 3)\n",
       " CartesianIndex(4, 1)\n",
       " CartesianIndex(3, 2)\n",
       " CartesianIndex(1, 1)\n",
       " CartesianIndex(4, 3)"
      ]
     },
     "execution_count": 9,
     "metadata": {},
     "output_type": "execute_result"
    }
   ],
   "source": [
    "getindex.(targets,1)"
   ]
  },
  {
   "cell_type": "code",
   "execution_count": null,
   "metadata": {
    "collapsed": true
   },
   "outputs": [],
   "source": []
  }
 ],
 "metadata": {
  "kernelspec": {
   "display_name": "Julia 1.0.1",
   "language": "julia",
   "name": "julia-1.0"
  },
  "language_info": {
   "file_extension": ".jl",
   "mimetype": "application/julia",
   "name": "julia",
   "version": "1.0.1"
  }
 },
 "nbformat": 4,
 "nbformat_minor": 2
}
