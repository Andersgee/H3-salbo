{
 "cells": [
  {
   "cell_type": "code",
   "execution_count": 21,
   "metadata": {
    "collapsed": false
   },
   "outputs": [
    {
     "data": {
      "text/plain": [
       "select_direction (generic function with 1 method)"
      ]
     },
     "execution_count": 21,
     "metadata": {},
     "output_type": "execute_result"
    }
   ],
   "source": [
    "rounddown(a) = round(a, RoundDown)\n",
    "\n",
    "function quadrant_travelcost(m) \n",
    "    # cost: cheapest cost from top left corner to every other square restricted to only South/East moves. (quadrant 4)\n",
    "    # and\n",
    "    # dir: correct FIRST direction to go in order to take that cheapest path\n",
    "    \n",
    "    cost = m*0.1\n",
    "    \n",
    "    Y=size(m,1)\n",
    "    X=size(m,2)\n",
    "    dir=ones(Int,(Y,X))\n",
    "    sumcost=zeros(Int,(Y,X))\n",
    "    for x=1:X,y=1:Y\n",
    "        if x>1\n",
    "            sumcost[y,x] = sumcost[y,x-1] + rounddown(cost[y,x-1])\n",
    "            dir[y,x]  = y==1 ? 1 : dir[y,x-1]\n",
    "        end\n",
    "        if y>1\n",
    "            t_sumcost = sumcost[y-1,x] + rounddown(cost[y-1,x])\n",
    "            if t_sumcost<sumcost[y,x] || x==1\n",
    "                sumcost[y,x]=t_sumcost\n",
    "                dir[y,x] = x==1 ? 0 : dir[y-1,x]\n",
    "            end\n",
    "        end\n",
    "    end\n",
    "    dir[1,1]=4\n",
    "    \n",
    "    return sumcost, dir\n",
    "end\n",
    "\n",
    "q1(m) = reverse(circshift(m, (-1,0)), dims=1)\n",
    "q2(m) = q1(q3(m))\n",
    "q3(m) = reverse(circshift(m, (0,-1)), dims=2)\n",
    "q4(m) = m\n",
    "\n",
    "iq1(m,d) = q1(m), replace(d, 0 => 2)\n",
    "iq2(m,d) = q2(m), replace(d, 0 => 2, 1 => 3)\n",
    "iq3(m,d) = q3(m), replace(d, 1 => 3)\n",
    "iq4(m,d) = q4(m), d\n",
    "\n",
    "shiftorigin(m, origin) = circshift(m, (1-origin[1], 1-origin[2]))\n",
    "ishiftorigin(m, origin) = circshift(m, (origin[1]-1, origin[2]-1))\n",
    "\n",
    "\n",
    "function travelcost(m, origin)\n",
    "    #Cheapest cost from some point to All Other points,\n",
    "    #and what direction to go on First step to take that cheapest path.\n",
    "    #south/east/north/west (in that order 0,1,2,3)\n",
    "    m = shiftorigin(m, origin)\n",
    "    expand(f) = x -> f(x...)\n",
    "    c1,d1 = m |> q1 |> quadrant_travelcost |> expand(iq1)\n",
    "    c2,d2 = m |> q2 |> quadrant_travelcost |> expand(iq2)\n",
    "    c3,d3 = m |> q3 |> quadrant_travelcost |> expand(iq3)\n",
    "    c4,d4 = m |> q4 |> quadrant_travelcost |> expand(iq4)\n",
    "    \n",
    "    D = cat(d1,d2,d3,d4, dims=3)\n",
    "    C = cat(c1,c2,c3,c4, dims=3)\n",
    "    v, i = findmin(C, dims=3)\n",
    "    \n",
    "    cost = ishiftorigin(C[i][:,:,1], origin)\n",
    "    first_direction = ishiftorigin(D[i][:,:,1], origin) #pick the index with least cost. distance not taken into account..\n",
    "    \n",
    "    \n",
    "    return cost, first_direction\n",
    "end\n",
    "\n",
    "manhattandist(a,b) = sum(abs.(b-a))\n",
    "\n",
    "function manhattandistmatrix(m,origin)\n",
    "    #with wrap around taken into account\n",
    "    Y=size(m,1)\n",
    "    X=size(m,2)\n",
    "    mhdist_q4=zeros(Int,(Y,X))\n",
    "    mhdist_q1=zeros(Int,(Y,X))\n",
    "    mhdist_q2=zeros(Int,(Y,X))\n",
    "    mhdist_q3=zeros(Int,(Y,X))\n",
    "    o=[origin[1],origin[2]]\n",
    "    for x=1:X, y=1:Y\n",
    "        mhdist_q4[y,x] = manhattandist([1,1],[y,x])\n",
    "        mhdist_q3[y,x] = manhattandist([1,X],[y,x])\n",
    "        mhdist_q2[y,x] = manhattandist([Y,X],[y,x])\n",
    "        mhdist_q1[y,x] = manhattandist([Y,1],[y,x])\n",
    "    end\n",
    "    mhdist_q4 = ishiftorigin(mhdist_q4, origin)\n",
    "    mhdist_q3 = ishiftorigin(shiftorigin(mhdist_q3, [1,X]), origin)\n",
    "    mhdist_q2 = ishiftorigin(shiftorigin(mhdist_q2, [Y,X]), origin)\n",
    "    mhdist_q1 = ishiftorigin(shiftorigin(mhdist_q1, [Y,1]), origin)\n",
    "    \n",
    "    return min.(mhdist_q4,mhdist_q3,mhdist_q2,mhdist_q1)\n",
    "end\n",
    "\n",
    "function halite_per_turn(m, p_ship, p_shipyard, ship_halite)\n",
    "    #mined halite amount (at some point)\n",
    "    #minus\n",
    "    #cost (from ship, to some point, and then to shipyard)\n",
    "    #divided by\n",
    "    #nr turns to travel there and then to shipyard\n",
    "    #equals\n",
    "    #net halite gained per turn\n",
    "    \n",
    "    mining = m .* 0.25\n",
    "    cost1, direction1 = travelcost(m, p_ship)\n",
    "    cost2, direction2 = travelcost(m, p_shipyard)\n",
    "    cost2 = cost2 + (m*0.75)*0.1\n",
    "    \n",
    "    cost = cost1 + cost2\n",
    "    net_gain = mining - cost\n",
    "    net_gain[p_shipyard[1],p_shipyard[2]] = ship_halite - cost1[p_shipyard[1],p_shipyard[2]]\n",
    "    \n",
    "    mhd1 = manhattandistmatrix(m, p_ship)\n",
    "    mhd2 = manhattandistmatrix(m, p_shipyard)\n",
    "    mhd = mhd1 .+ mhd2\n",
    "    #hpt = net_gain./mhd\n",
    "    \n",
    "    hpt = net_gain ./ (mhd.+1) #plus 1 since we mined one turn\n",
    "    hpt[p_shipyard[1],p_shipyard[2]] = net_gain[p_shipyard[1],p_shipyard[2]] ./ mhd[p_shipyard[1],p_shipyard[2]]\n",
    "    \n",
    "    if p_ship == p_shipyard\n",
    "        hpt[p_shipyard[1],p_shipyard[2]] = 0\n",
    "    end\n",
    "    \n",
    "    return hpt, cost1, direction1\n",
    "end\n",
    "\n",
    "within_reach(hpt, cost1, ship_halite) = hpt.*(cost1 .<= ship_halite)\n",
    "\n",
    "function select_direction(m, p_ship, p_shipyard, ship_halite)\n",
    "    hpt, cost1, direction1 = halite_per_turn(m, p_ship, p_shipyard, ship_halite)\n",
    "    hpt_within_reach = within_reach(hpt, cost1, ship_halite)\n",
    "    dir = direction1[findmax(hpt_within_reach)[2]]\n",
    "    return dir\n",
    "end\n"
   ]
  },
  {
   "cell_type": "code",
   "execution_count": 22,
   "metadata": {
    "collapsed": false
   },
   "outputs": [
    {
     "data": {
      "text/plain": [
       "4×4 Array{Int64,2}:\n",
       " 90  0  0  0\n",
       "  0  0  0  0\n",
       "  0  0  0  0\n",
       "  0  0  0  0"
      ]
     },
     "execution_count": 22,
     "metadata": {},
     "output_type": "execute_result"
    }
   ],
   "source": [
    "p_ship = [2,1]\n",
    "p_shipyard = [2,2]\n",
    "#ship_halite = 39-39*0.75^1\n",
    "ship_halite = 0\n",
    "\n",
    "m=[90 0 0 0;\n",
    "    0 0 0 0;\n",
    "    0 0 0 0;\n",
    "    0 0 0 0]\n",
    "\n",
    "m[p_shipyard[1],p_shipyard[2]]=0 #(make sure shipyard has 0 halite when constructing matrix manually)\n",
    "m"
   ]
  },
  {
   "cell_type": "code",
   "execution_count": 23,
   "metadata": {
    "collapsed": false
   },
   "outputs": [
    {
     "data": {
      "text/plain": [
       "2"
      ]
     },
     "execution_count": 23,
     "metadata": {},
     "output_type": "execute_result"
    }
   ],
   "source": [
    "select_direction(m, p_ship, p_shipyard, ship_halite)"
   ]
  },
  {
   "cell_type": "code",
   "execution_count": 24,
   "metadata": {
    "collapsed": false
   },
   "outputs": [
    {
     "data": {
      "text/plain": [
       "4"
      ]
     },
     "execution_count": 24,
     "metadata": {},
     "output_type": "execute_result"
    }
   ],
   "source": [
    "p_ship = [1,1]\n",
    "select_direction(m, p_ship, p_shipyard, ship_halite)"
   ]
  },
  {
   "cell_type": "code",
   "execution_count": 30,
   "metadata": {
    "collapsed": false
   },
   "outputs": [
    {
     "data": {
      "text/plain": [
       "4×4 Array{Int64,2}:\n",
       " 67  0  0  0\n",
       "  0  0  0  0\n",
       "  0  0  0  0\n",
       "  0  0  0  0"
      ]
     },
     "execution_count": 30,
     "metadata": {},
     "output_type": "execute_result"
    }
   ],
   "source": [
    "#m[1,1] = floor(m[1,1]*0.75)\n",
    "m"
   ]
  },
  {
   "cell_type": "code",
   "execution_count": 31,
   "metadata": {
    "collapsed": false
   },
   "outputs": [
    {
     "data": {
      "text/plain": [
       "23"
      ]
     },
     "execution_count": 31,
     "metadata": {},
     "output_type": "execute_result"
    }
   ],
   "source": [
    "ship_halite = 23"
   ]
  },
  {
   "cell_type": "code",
   "execution_count": 32,
   "metadata": {
    "collapsed": false
   },
   "outputs": [
    {
     "data": {
      "text/plain": [
       "2"
      ]
     },
     "execution_count": 32,
     "metadata": {},
     "output_type": "execute_result"
    }
   ],
   "source": [
    "select_direction(m, p_ship, p_shipyard, ship_halite)"
   ]
  },
  {
   "cell_type": "code",
   "execution_count": 33,
   "metadata": {
    "collapsed": false
   },
   "outputs": [
    {
     "data": {
      "text/plain": [
       "4×4 Array{Float64,2}:\n",
       "  3.90833  -2.0  -1.2       -1.2     \n",
       " -2.0       8.5  -1.2       -1.2     \n",
       " -1.2      -1.2  -0.857143  -0.857143\n",
       " -1.2      -1.2  -0.857143  -0.857143"
      ]
     },
     "execution_count": 33,
     "metadata": {},
     "output_type": "execute_result"
    }
   ],
   "source": [
    "#for inspection:\n",
    "hpt, cost1, direction1 = halite_per_turn(m, p_ship, p_shipyard, ship_halite)\n",
    "hpt"
   ]
  },
  {
   "cell_type": "code",
   "execution_count": 34,
   "metadata": {
    "collapsed": false
   },
   "outputs": [
    {
     "data": {
      "text/plain": [
       "4×4 Array{Float64,2}:\n",
       "  3.90833  -2.0  -1.2       -1.2     \n",
       " -2.0       8.5  -1.2       -1.2     \n",
       " -1.2      -1.2  -0.857143  -0.857143\n",
       " -1.2      -1.2  -0.857143  -0.857143"
      ]
     },
     "execution_count": 34,
     "metadata": {},
     "output_type": "execute_result"
    }
   ],
   "source": [
    "hpt_within_reach = within_reach(hpt, cost1, ship_halite)"
   ]
  },
  {
   "cell_type": "code",
   "execution_count": 35,
   "metadata": {
    "collapsed": false
   },
   "outputs": [
    {
     "data": {
      "text/plain": [
       "4×4 Array{Int64,2}:\n",
       " 4  1  1  1\n",
       " 2  2  2  2\n",
       " 2  2  2  2\n",
       " 2  2  2  2"
      ]
     },
     "execution_count": 35,
     "metadata": {},
     "output_type": "execute_result"
    }
   ],
   "source": [
    "direction1"
   ]
  },
  {
   "cell_type": "code",
   "execution_count": 36,
   "metadata": {
    "collapsed": false
   },
   "outputs": [
    {
     "data": {
      "text/plain": [
       "4×4 Array{Int64,2}:\n",
       " 0  6  6  6\n",
       " 6  6  6  6\n",
       " 6  6  6  6\n",
       " 6  6  6  6"
      ]
     },
     "execution_count": 36,
     "metadata": {},
     "output_type": "execute_result"
    }
   ],
   "source": [
    "#cost is same to all, it should be. but when selecting direction need to take into account distance aswel\n",
    "#this needs to be done inside travelcost() function which returns direction\n",
    "cost1"
   ]
  },
  {
   "cell_type": "code",
   "execution_count": null,
   "metadata": {
    "collapsed": true
   },
   "outputs": [],
   "source": []
  },
  {
   "cell_type": "code",
   "execution_count": 15,
   "metadata": {
    "collapsed": false
   },
   "outputs": [
    {
     "data": {
      "text/plain": [
       "4×4 Array{Int64,2}:\n",
       " 4  1  1  1\n",
       " 2  2  2  2\n",
       " 2  2  2  2\n",
       " 2  2  2  2"
      ]
     },
     "execution_count": 15,
     "metadata": {},
     "output_type": "execute_result"
    }
   ],
   "source": [
    "c, d = travelcost(m, p_ship)\n",
    "d"
   ]
  },
  {
   "cell_type": "code",
   "execution_count": null,
   "metadata": {
    "collapsed": true
   },
   "outputs": [],
   "source": []
  },
  {
   "cell_type": "code",
   "execution_count": null,
   "metadata": {
    "collapsed": true
   },
   "outputs": [],
   "source": []
  },
  {
   "cell_type": "code",
   "execution_count": null,
   "metadata": {
    "collapsed": true
   },
   "outputs": [],
   "source": []
  },
  {
   "cell_type": "code",
   "execution_count": null,
   "metadata": {
    "collapsed": true
   },
   "outputs": [],
   "source": []
  },
  {
   "cell_type": "code",
   "execution_count": null,
   "metadata": {
    "collapsed": true
   },
   "outputs": [],
   "source": []
  },
  {
   "cell_type": "code",
   "execution_count": null,
   "metadata": {
    "collapsed": true
   },
   "outputs": [],
   "source": []
  },
  {
   "cell_type": "code",
   "execution_count": null,
   "metadata": {
    "collapsed": true
   },
   "outputs": [],
   "source": []
  },
  {
   "cell_type": "code",
   "execution_count": 245,
   "metadata": {
    "collapsed": false
   },
   "outputs": [
    {
     "data": {
      "text/plain": [
       "4×3 Array{Float64,2}:\n",
       "  0.0  20.0  30.0\n",
       " 39.0  50.0  60.0\n",
       " 50.0  59.0  10.0\n",
       " 80.0  30.0  70.0"
      ]
     },
     "execution_count": 245,
     "metadata": {},
     "output_type": "execute_result"
    }
   ],
   "source": [
    "p_ship = [1,1]\n",
    "p_shipyard = [1,1]\n",
    "#ship_halite = 39-39*0.75^1\n",
    "ship_halite = 0\n",
    "\n",
    "m=[9 20 30;\n",
    "    39*0.75^0 50*0.75^0 60*0.75^0;\n",
    "    50*0.75^0 59 10;\n",
    "    80*0.75^0 30 70*0.75^0]\n",
    "m[p_shipyard[1],p_shipyard[2]]=0 #(make sure shipyard has 0 halite when constructing matrix manually)\n",
    "\n",
    "m"
   ]
  },
  {
   "cell_type": "code",
   "execution_count": 246,
   "metadata": {
    "collapsed": false
   },
   "outputs": [
    {
     "data": {
      "text/plain": [
       "2"
      ]
     },
     "execution_count": 246,
     "metadata": {},
     "output_type": "execute_result"
    }
   ],
   "source": [
    "select_direction(m, p_ship, p_shipyard, ship_halite)"
   ]
  },
  {
   "cell_type": "code",
   "execution_count": 247,
   "metadata": {
    "collapsed": false
   },
   "outputs": [
    {
     "data": {
      "text/plain": [
       "4×3 Array{Float64,2}:\n",
       " 0.0      1.16667     1.75   \n",
       " 2.275    0.95        0.9    \n",
       " 0.55     0.0464286  -2.03571\n",
       " 4.66667  0.25        1.25   "
      ]
     },
     "execution_count": 247,
     "metadata": {},
     "output_type": "execute_result"
    }
   ],
   "source": [
    "#for inspection:\n",
    "hpt, cost1, direction1 = halite_per_turn(m, p_ship, p_shipyard, ship_halite)\n",
    "hpt"
   ]
  },
  {
   "cell_type": "code",
   "execution_count": 244,
   "metadata": {
    "collapsed": false
   },
   "outputs": [
    {
     "data": {
      "text/plain": [
       "4×3 Array{Int64,2}:\n",
       " 0  0  0\n",
       " 0  2  2\n",
       " 2  5  7\n",
       " 0  2  3"
      ]
     },
     "execution_count": 244,
     "metadata": {},
     "output_type": "execute_result"
    }
   ],
   "source": [
    "cost1"
   ]
  },
  {
   "cell_type": "code",
   "execution_count": 167,
   "metadata": {
    "collapsed": false
   },
   "outputs": [
    {
     "data": {
      "text/plain": [
       "4×3 Array{Float64,2}:\n",
       " NaN        1.16667   1.75\n",
       "   2.275    0.0       0.0 \n",
       "   0.0      0.0      -0.0 \n",
       "   4.66667  0.0       0.0 "
      ]
     },
     "execution_count": 167,
     "metadata": {},
     "output_type": "execute_result"
    }
   ],
   "source": [
    "hpt_within_reach = within_reach(hpt, cost1, ship_halite)"
   ]
  },
  {
   "cell_type": "code",
   "execution_count": 135,
   "metadata": {
    "collapsed": false
   },
   "outputs": [
    {
     "data": {
      "text/plain": [
       "0"
      ]
     },
     "execution_count": 135,
     "metadata": {},
     "output_type": "execute_result"
    }
   ],
   "source": [
    "ship_halite"
   ]
  },
  {
   "cell_type": "code",
   "execution_count": 239,
   "metadata": {
    "collapsed": false
   },
   "outputs": [
    {
     "data": {
      "text/plain": [
       "false"
      ]
     },
     "execution_count": 239,
     "metadata": {},
     "output_type": "execute_result"
    }
   ],
   "source": [
    "[1,2]==[1,3]"
   ]
  },
  {
   "cell_type": "code",
   "execution_count": null,
   "metadata": {
    "collapsed": true
   },
   "outputs": [],
   "source": [
    "M2 = [90 0 0 0\n",
    "      0  0 0 0\n",
    "      0  0 0 0\n",
    "      0  0 0 0]"
   ]
  }
 ],
 "metadata": {
  "kernelspec": {
   "display_name": "Julia 1.0.1",
   "language": "julia",
   "name": "julia-1.0"
  },
  "language_info": {
   "file_extension": ".jl",
   "mimetype": "application/julia",
   "name": "julia",
   "version": "1.0.1"
  }
 },
 "nbformat": 4,
 "nbformat_minor": 2
}
