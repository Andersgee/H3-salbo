{
 "cells": [
  {
   "cell_type": "code",
   "execution_count": 29,
   "metadata": {
    "collapsed": false
   },
   "outputs": [
    {
     "data": {
      "text/plain": [
       "5×4 Array{Int64,2}:\n",
       " 0  0  0  0\n",
       " 0  0  0  0\n",
       " 0  0  0  0\n",
       " 0  0  0  0\n",
       " 0  0  0  0"
      ]
     },
     "execution_count": 29,
     "metadata": {},
     "output_type": "execute_result"
    }
   ],
   "source": [
    "occupied=zeros(Int, 5,4)\n",
    "\n",
    "ship1_p = CartesianIndex(2,2)\n",
    "ship2_p = CartesianIndex(3,3)\n",
    "ship3_p = CartesianIndex(4,4)\n",
    "\n",
    "ships_p = [ship1_p, ship2_p, ship3_p]\n",
    "\n",
    "move1 = CartesianIndex(0,1)\n",
    "move2 = CartesianIndex(-1,0)\n",
    "move3 = CartesianIndex(-1,0)\n",
    "\n",
    "moves = [move1, move2, move3]\n",
    "\n",
    "occupied"
   ]
  },
  {
   "cell_type": "code",
   "execution_count": null,
   "metadata": {
    "collapsed": true
   },
   "outputs": [],
   "source": [
    "winds2cartesian(D) = replace(D, H.NORTH => CartesianIndex(-1,0), H.WEST => CartesianIndex(0,-1), H.SOUTH => CartesianIndex(1,0), H.EAST => CartesianIndex(0,1))"
   ]
  },
  {
   "cell_type": "code",
   "execution_count": 25,
   "metadata": {
    "collapsed": false
   },
   "outputs": [
    {
     "name": "stdout",
     "output_type": "stream",
     "text": [
      "CartesianIndex(2, 2)\n",
      "CartesianIndex(0, 1)\n",
      "CartesianIndex(3, 3)\n",
      "CartesianIndex(-1, 0)\n",
      "CartesianIndex(4, 4)\n",
      "CartesianIndex(-1, 0)\n"
     ]
    },
    {
     "data": {
      "text/plain": [
       "5×4 Array{Int64,2}:\n",
       " 0  0  0  0\n",
       " 0  0  1  0\n",
       " 0  0  1  1\n",
       " 0  0  0  0\n",
       " 0  0  0  0"
      ]
     },
     "execution_count": 25,
     "metadata": {},
     "output_type": "execute_result"
    }
   ],
   "source": [
    "for n = 1:3\n",
    "    println(ships_p[n])\n",
    "    println(moves[n])\n",
    "    if occupied[ships_p[n]+moves[n]] == 0\n",
    "        occupied[ships_p[n]+moves[n]] = 1 #move\n",
    "    else\n",
    "        occupied[ships_p[n]] = 1 #stay\n",
    "    end\n",
    "end\n",
    "occupied"
   ]
  }
 ],
 "metadata": {
  "kernelspec": {
   "display_name": "Julia 1.0.1",
   "language": "julia",
   "name": "julia-1.0"
  },
  "language_info": {
   "file_extension": ".jl",
   "mimetype": "application/julia",
   "name": "julia",
   "version": "1.0.1"
  }
 },
 "nbformat": 4,
 "nbformat_minor": 2
}
