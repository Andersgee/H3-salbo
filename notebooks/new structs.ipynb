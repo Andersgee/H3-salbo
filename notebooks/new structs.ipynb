{
 "cells": [
  {
   "cell_type": "code",
   "execution_count": 9,
   "metadata": {
    "collapsed": false
   },
   "outputs": [
    {
     "name": "stderr",
     "output_type": "stream",
     "text": [
      "WARNING: replacing module H.\n",
      "WARNING: replacing module Salboai.\n"
     ]
    }
   ],
   "source": [
    "include(\"../hlt/halite.jl\")\n",
    "include(\"../salboai/salboai.jl\")\n",
    "\n",
    "#helpers for this notebook:\n",
    "newship(y,x,h) = H.Ship(0, 1, CartesianIndex(y,x), h)\n",
    "Base.show(io::IO, t::Main.Salboai.CandidateTarget) = println(io, t.dir, \" \", Tuple(t.target), \" \", t.hpt, \" \", t.checkcollision)"
   ]
  },
  {
   "cell_type": "code",
   "execution_count": 10,
   "metadata": {
    "collapsed": false
   },
   "outputs": [
    {
     "data": {
      "text/plain": [
       "4×4 Array{Int64,2}:\n",
       " 0  70   0  0\n",
       " 0   0  90  0\n",
       " 0  50   0  0\n",
       " 0   0   0  0"
      ]
     },
     "execution_count": 10,
     "metadata": {},
     "output_type": "execute_result"
    }
   ],
   "source": [
    "m=[0 70 0 0;\n",
    "    0 0 90 0;\n",
    "    0 50 0 0;\n",
    "    0 0 0 0]"
   ]
  },
  {
   "cell_type": "code",
   "execution_count": 16,
   "metadata": {
    "collapsed": false
   },
   "outputs": [],
   "source": [
    "s1 = newship(2,2, 0)\n",
    "s2 = newship(2,3, 0)\n",
    "s3 = newship(4,1, 0)\n",
    "newship(4,2, 0)\n",
    "newship(4,3, 0)\n",
    "newship(4,4, 0)\n",
    "ships = [s1,s2,s3]\n",
    "me = H.Player(\n",
    "        0,\n",
    "       CartesianIndex(4,4),\n",
    "        1234,\n",
    "        ships,\n",
    "        H.DropOff[])\n",
    "g = H.GameMap(0, H.WrappedArray(m), Dict(0=>me))\n",
    "\n",
    "turn=1\n",
    "S=Salboai.GameState()\n",
    "Salboai.update_game_state!(S, g, turn);"
   ]
  },
  {
   "cell_type": "code",
   "execution_count": 17,
   "metadata": {
    "collapsed": false
   },
   "outputs": [
    {
     "name": "stderr",
     "output_type": "stream",
     "text": [
      "n ships 3\n"
     ]
    }
   ],
   "source": [
    "shipcands = Salboai.shipscandidatetargets(S, g, turn);"
   ]
  },
  {
   "cell_type": "code",
   "execution_count": 22,
   "metadata": {
    "collapsed": false
   },
   "outputs": [
    {
     "data": {
      "text/plain": [
       "(e (2, 3) 11.5 true\n",
       ", n (1, 2) 9.0 true\n",
       ", s (3, 2) 6.5 true\n",
       ", w (1, 1) 0.0 true\n",
       ", o (2, 2) 0.0 true\n",
       ")"
      ]
     },
     "execution_count": 22,
     "metadata": {},
     "output_type": "execute_result"
    }
   ],
   "source": [
    "shipcands[1].cands"
   ]
  },
  {
   "cell_type": "code",
   "execution_count": 19,
   "metadata": {
    "collapsed": false
   },
   "outputs": [
    {
     "data": {
      "text/plain": [
       "(o (2, 3) -Inf true\n",
       ", o (2, 3) -Inf true\n",
       ", o (2, 3) -Inf true\n",
       ", o (2, 3) -Inf true\n",
       ", o (2, 3) -Inf true\n",
       ")"
      ]
     },
     "execution_count": 19,
     "metadata": {},
     "output_type": "execute_result"
    }
   ],
   "source": [
    "shipcands[2].cands"
   ]
  },
  {
   "cell_type": "code",
   "execution_count": 20,
   "metadata": {
    "collapsed": false
   },
   "outputs": [
    {
     "data": {
      "text/plain": [
       "(s (1, 2) 6.0 true\n",
       ", n (2, 3) 4.6 true\n",
       ", o (4, 1) 0.0 true\n",
       ", e (4, 2) 0.0 true\n",
       ", w (4, 4) 0.0 true\n",
       ")"
      ]
     },
     "execution_count": 20,
     "metadata": {},
     "output_type": "execute_result"
    }
   ],
   "source": [
    "shipcands[3].cands"
   ]
  },
  {
   "cell_type": "code",
   "execution_count": 24,
   "metadata": {
    "collapsed": false
   },
   "outputs": [],
   "source": [
    "ships = [sc.ship for sc in shipcands]\n",
    "dirs = [[c.dir for c in sc.cands] for sc in shipcands]\n",
    "targets = [[c.target for c in sc.cands] for sc in shipcands]\n",
    "targets_hpt = [[c.hpt for c in sc.cands] for sc in shipcands]\n",
    "\n",
    "dirs, targets = Salboai.exclusive_candidate1_targets!(dirs, targets, targets_hpt, me.shipyard);"
   ]
  },
  {
   "cell_type": "code",
   "execution_count": 28,
   "metadata": {
    "collapsed": false
   },
   "outputs": [
    {
     "data": {
      "text/plain": [
       "5×2 Array{Any,2}:\n",
       " 'e'  CartesianIndex(2, 3)\n",
       " 'n'  CartesianIndex(1, 2)\n",
       " 's'  CartesianIndex(3, 2)\n",
       " 'w'  CartesianIndex(1, 1)\n",
       " 'o'  CartesianIndex(2, 2)"
      ]
     },
     "execution_count": 28,
     "metadata": {},
     "output_type": "execute_result"
    }
   ],
   "source": [
    "i=1\n",
    "[dirs[i] targets[i]]"
   ]
  }
 ],
 "metadata": {
  "kernelspec": {
   "display_name": "Julia 1.0.1",
   "language": "julia",
   "name": "julia-1.0"
  },
  "language_info": {
   "file_extension": ".jl",
   "mimetype": "application/julia",
   "name": "julia",
   "version": "1.0.1"
  }
 },
 "nbformat": 4,
 "nbformat_minor": 2
}
