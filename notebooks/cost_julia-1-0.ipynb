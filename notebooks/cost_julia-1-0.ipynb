{
 "cells": [
  {
   "cell_type": "code",
   "execution_count": 7,
   "metadata": {
    "collapsed": false
   },
   "outputs": [
    {
     "data": {
      "text/plain": [
       "4×3 Array{Int64,2}:\n",
       " 10  20  30\n",
       " 40  50  60\n",
       " 50  60  10\n",
       " 20  30  70"
      ]
     },
     "execution_count": 7,
     "metadata": {},
     "output_type": "execute_result"
    }
   ],
   "source": [
    "m=[1 2 3; 4 5 6; 5 6 1; 2 3 7]*10"
   ]
  },
  {
   "cell_type": "code",
   "execution_count": 8,
   "metadata": {
    "collapsed": false
   },
   "outputs": [
    {
     "data": {
      "text/plain": [
       "quadrant_travelcost (generic function with 1 method)"
      ]
     },
     "execution_count": 8,
     "metadata": {},
     "output_type": "execute_result"
    }
   ],
   "source": [
    "function quadrant_travelcost(m)\n",
    "    # cost: cheapest cost from top left corner to every other square restricted to only South/East moves. (quadrant 4)\n",
    "    # and\n",
    "    # dir: correct FIRST direction to go in order to take that cheapest path\n",
    "    Y=size(m,1)\n",
    "    X=size(m,2)\n",
    "    dir=ones(Int,(Y,X))\n",
    "    cost=zeros(Int,(Y,X))\n",
    "    for x=1:X,y=1:Y\n",
    "        if x>1\n",
    "            cost[y,x]=cost[y,x-1]+m[y,x-1]\n",
    "            dir[y,x]  = y==1 ? 1 : dir[y,x-1]\n",
    "        end\n",
    "        if y>1\n",
    "            t_cost=cost[y-1,x]+m[y-1,x]\n",
    "            if t_cost<cost[y,x] || x==1\n",
    "                cost[y,x]=t_cost\n",
    "                dir[y,x] = x==1 ? 0 : dir[y-1,x]\n",
    "            end\n",
    "        end\n",
    "    end\n",
    "    dir[1,1]=9\n",
    "    return cost, dir\n",
    "end"
   ]
  },
  {
   "cell_type": "code",
   "execution_count": 9,
   "metadata": {
    "collapsed": false
   },
   "outputs": [
    {
     "data": {
      "text/plain": [
       "ishiftorigin (generic function with 1 method)"
      ]
     },
     "execution_count": 9,
     "metadata": {},
     "output_type": "execute_result"
    }
   ],
   "source": [
    "#helpers. Work with quartiles and shifts to generalize basic_travelcost\n",
    "#to any move south/east/north/west (in that order 0,1,2,3) and any starting coordinate.\n",
    "#function replace!(x, KV::Pair{Int,Int}...)\n",
    "#    for (k,v) in KV\n",
    "#        x[x.==k] = v\n",
    "#    end\n",
    "#    x\n",
    "#end\n",
    "\n",
    "#\n",
    "#reverse(x, dims=d) instead of flipdim\n",
    "\n",
    "#q1(m) = flipdim(circshift(m, (-1,0)), 1) #julia 0.6\n",
    "q1(m) = reverse(circshift(m, (-1,0)), dims=1)\n",
    "q2(m) = q1(q3(m))\n",
    "#q3(m) = flipdim(circshift(m, (0,-1)), 2) #julia 0.6\n",
    "q3(m) = reverse(circshift(m, (0,-1)), dims=2)\n",
    "q4(m) = m\n",
    "\n",
    "#iq1(m,d) = q1(m), replace!(d, 0 => 2)\n",
    "#iq2(m,d) = q2(m), replace!(d, 0 => 2, 1 => 3)\n",
    "#iq3(m,d) = q3(m), replace!(d, 1 => 3)\n",
    "\n",
    "iq1(m,d) = q1(m), replace(d, 0 => 2)\n",
    "iq2(m,d) = q2(m), replace(d, 0 => 2, 1 => 3)\n",
    "iq3(m,d) = q3(m), replace(d, 1 => 3)\n",
    "iq4(m,d) = q4(m), d\n",
    "\n",
    "shiftorigin(m, origin) = circshift(m, (1-origin[1], 1-origin[2]))\n",
    "ishiftorigin(m, origin) = circshift(m, (origin[1]-1, origin[2]-1))"
   ]
  },
  {
   "cell_type": "code",
   "execution_count": 10,
   "metadata": {
    "collapsed": false
   },
   "outputs": [
    {
     "data": {
      "text/plain": [
       "([110 90 110; 110 60 70; 60 0 60; 90 60 70], [0 0 0; 2 2 2; 3 9 1; 0 0 1])"
      ]
     },
     "execution_count": 10,
     "metadata": {},
     "output_type": "execute_result"
    }
   ],
   "source": [
    "#kommentar: om travelcost är mer än vad skeppet har mineraler så kan det inte åka dit.\n",
    "#bör antagligen filtrera bord dom när skeppet ska välja vilken ruta som har bäst score.\n",
    "function travelcost(m, origin)\n",
    "    #Cheapest cost from some point to All Other points,\n",
    "    #and what direction to go on First step to take that cheapest path.\n",
    "    #south/east/north/west (in that order 0,1,2,3)\n",
    "    m = shiftorigin(m, origin)\n",
    "    expand(f) = x -> f(x...)\n",
    "    c1,d1 = m |> q1 |> quadrant_travelcost |> expand(iq1)\n",
    "    c2,d2 = m |> q2 |> quadrant_travelcost |> expand(iq2)\n",
    "    c3,d3 = m |> q3 |> quadrant_travelcost |> expand(iq3)\n",
    "    c4,d4 = m |> q4 |> quadrant_travelcost |> expand(iq4)\n",
    "    \n",
    "    D = cat(d1,d2,d3,d4, dims=3)\n",
    "    C = cat(c1,c2,c3,c4, dims=3)\n",
    "    v, i = findmin(C, dims=3)\n",
    "    \n",
    "    cost = ishiftorigin(C[i][:,:,1], origin)\n",
    "    first_direction = ishiftorigin(D[i][:,:,1], origin)\n",
    "    return cost, first_direction\n",
    "end\n",
    "\n",
    "c, d = travelcost(m, [3,2])"
   ]
  },
  {
   "cell_type": "code",
   "execution_count": 61,
   "metadata": {
    "collapsed": false
   },
   "outputs": [
    {
     "data": {
      "text/plain": [
       "score (generic function with 1 method)"
      ]
     },
     "execution_count": 61,
     "metadata": {},
     "output_type": "execute_result"
    }
   ],
   "source": [
    "function score(M, ship, shipyard, threshold)\n",
    "    #reward\n",
    "    #minus\n",
    "    #cost (from ship, to some point, and then to shipyard)\n",
    "    mining = max.(0, M .- threshold)\n",
    "    leftovers = min.(mining, threshold)\n",
    "    ignoreshipyard = M[shipyard...]\n",
    "    cost1, direction1 = travelcost(0.1*M, ship)\n",
    "    cost2, direction2 = travelcost(0.1*M, shipyard)\n",
    "    \n",
    "    cost = cost1 + cost2 + 0.1*leftovers .- 0.1*ignoreshipyard\n",
    "    direction = direction1\n",
    "    \n",
    "    s = mining - cost\n",
    "    return s, direction\n",
    "end"
   ]
  },
  {
   "cell_type": "code",
   "execution_count": 63,
   "metadata": {
    "collapsed": false
   },
   "outputs": [
    {
     "data": {
      "text/plain": [
       "([1.8 12.8 20.8; 32.8 45.8 49.8; 36.8 47.8 -10.2; 9.8 18.8 55.8], [2 2 2; 3 9 1; 3 0 0; 2 2 2])"
      ]
     },
     "execution_count": 63,
     "metadata": {},
     "output_type": "execute_result"
    }
   ],
   "source": [
    "M=m\n",
    "ship = [2,2]\n",
    "shipyard = [1,1]\n",
    "threshold = 2\n",
    "a,b = score(m, ship, shipyard, threshold)"
   ]
  },
  {
   "cell_type": "code",
   "execution_count": 66,
   "metadata": {
    "collapsed": false
   },
   "outputs": [
    {
     "data": {
      "text/plain": [
       "4×3 Array{Float64,2}:\n",
       "  1.8  12.8   20.8\n",
       " 32.8  45.8   49.8\n",
       " 36.8  47.8  -10.2\n",
       "  9.8  18.8   55.8"
      ]
     },
     "execution_count": 66,
     "metadata": {},
     "output_type": "execute_result"
    }
   ],
   "source": [
    "a"
   ]
  }
 ],
 "metadata": {
  "kernelspec": {
   "display_name": "Julia 1.0.1",
   "language": "julia",
   "name": "julia-1.0"
  },
  "language_info": {
   "file_extension": ".jl",
   "mimetype": "application/julia",
   "name": "julia",
   "version": "1.0.1"
  }
 },
 "nbformat": 4,
 "nbformat_minor": 2
}
