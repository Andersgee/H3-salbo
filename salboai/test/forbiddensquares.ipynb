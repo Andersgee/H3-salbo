{
 "cells": [
  {
   "cell_type": "code",
   "execution_count": 1,
   "metadata": {
    "collapsed": false
   },
   "outputs": [],
   "source": [
    "include(\"../../hlt/halite.jl\")\n",
    "include(\"../salboai.jl\")\n",
    "\n",
    "using Test\n",
    "\n",
    "H.setdefaultconstants()\n",
    "g = Salboai.dummyGameMap((32, 32));"
   ]
  },
  {
   "cell_type": "code",
   "execution_count": 2,
   "metadata": {
    "collapsed": true
   },
   "outputs": [],
   "source": [
    "forbidden = H.WrappedMatrix(falses(size(g.halite)));"
   ]
  },
  {
   "cell_type": "code",
   "execution_count": 16,
   "metadata": {
    "collapsed": false
   },
   "outputs": [
    {
     "data": {
      "text/plain": [
       "32×32 Main.H.WrappedArray{Bool,2,BitArray{2}}:\n",
       " false  false  false  false  false  …  false  false  false  false   true\n",
       " false  false  false  false  false     false  false  false  false  false\n",
       " false  false  false  false  false     false  false  false  false  false\n",
       " false  false  false  false  false     false  false  false  false  false\n",
       " false  false  false  false  false     false  false  false  false  false\n",
       " false  false  false  false  false  …  false  false  false  false  false\n",
       " false  false  false  false  false     false  false  false  false  false\n",
       " false  false  false  false  false     false  false  false  false  false\n",
       " false  false  false  false  false     false  false  false  false  false\n",
       " false  false  false  false  false     false  false  false  false  false\n",
       " false  false  false  false  false  …  false  false  false  false  false\n",
       " false  false  false  false  false     false  false  false  false  false\n",
       " false  false  false  false  false     false  false  false  false  false\n",
       "     ⋮                              ⋱                           ⋮       \n",
       " false  false  false  false  false  …  false  false  false  false  false\n",
       " false  false  false  false  false     false  false  false  false  false\n",
       " false  false  false  false  false     false  false  false  false  false\n",
       " false  false  false  false  false     false  false  false  false  false\n",
       " false  false  false  false  false     false  false  false  false  false\n",
       " false  false  false  false  false  …  false  false  false  false  false\n",
       " false  false  false  false  false     false  false  false  false  false\n",
       " false  false  false  false  false     false  false  false  false  false\n",
       " false  false  false  false  false     false  false  false  false  false\n",
       " false  false  false  false  false     false  false  false  false  false\n",
       " false  false  false  false  false  …  false  false  false  false  false\n",
       "  true  false  false  false  false     false  false  false  false  false"
      ]
     },
     "execution_count": 16,
     "metadata": {},
     "output_type": "execute_result"
    }
   ],
   "source": [
    "forbidden[CartesianIndex(1,1) + CartesianIndex(-1,0)] = true\n",
    "forbidden"
   ]
  },
  {
   "cell_type": "code",
   "execution_count": 17,
   "metadata": {
    "collapsed": false
   },
   "outputs": [
    {
     "data": {
      "text/plain": [
       "32×32 Array{Bool,2}:\n",
       " false  false  false  false  false  …  false  false  false  false   true\n",
       " false  false  false  false  false     false  false  false  false  false\n",
       " false  false  false  false  false     false  false  false  false  false\n",
       " false  false  false  false  false     false  false  false  false  false\n",
       " false  false  false  false  false     false  false  false  false  false\n",
       " false  false  false  false  false  …  false  false  false  false  false\n",
       " false  false  false  false  false     false  false  false  false  false\n",
       " false  false  false  false  false     false  false  false  false  false\n",
       " false  false  false  false  false     false  false  false  false  false\n",
       " false  false  false  false  false     false  false  false  false  false\n",
       " false  false  false  false  false  …  false  false  false  false  false\n",
       " false  false  false  false  false     false  false  false  false  false\n",
       " false  false  false  false  false     false  false  false  false  false\n",
       "     ⋮                              ⋱                           ⋮       \n",
       " false  false  false  false  false  …  false  false  false  false  false\n",
       " false  false  false  false  false     false  false  false  false  false\n",
       " false  false  false  false  false     false  false  false  false  false\n",
       " false  false  false  false  false     false  false  false  false  false\n",
       " false  false  false  false  false     false  false  false  false  false\n",
       " false  false  false  false  false  …  false  false  false  false  false\n",
       " false  false  false  false  false     false  false  false  false  false\n",
       " false  false  false  false  false     false  false  false  false  false\n",
       " false  false  false  false  false     false  false  false  false  false\n",
       " false  false  false  false  false     false  false  false  false  false\n",
       " false  false  false  false  false  …  false  false  false  false  false\n",
       "  true  false  false  false  false     false  false  false  false  false"
      ]
     },
     "execution_count": 17,
     "metadata": {},
     "output_type": "execute_result"
    }
   ],
   "source": [
    "a=copy(forbidden)"
   ]
  },
  {
   "cell_type": "code",
   "execution_count": 13,
   "metadata": {
    "collapsed": false
   },
   "outputs": [
    {
     "data": {
      "text/plain": [
       "true"
      ]
     },
     "execution_count": 13,
     "metadata": {},
     "output_type": "execute_result"
    }
   ],
   "source": [
    "forbidden[CartesianIndex(32,1)]"
   ]
  },
  {
   "cell_type": "code",
   "execution_count": 16,
   "metadata": {
    "collapsed": false
   },
   "outputs": [
    {
     "data": {
      "text/plain": [
       "3-element Array{Int64,1}:\n",
       " 0\n",
       " 2\n",
       " 3"
      ]
     },
     "execution_count": 16,
     "metadata": {},
     "output_type": "execute_result"
    }
   ],
   "source": [
    "allplayerids = [g.players[i].id for i=0:length(g.players)-1]\n",
    "myplayerid = g.my_player_id\n",
    "otherplayersids=allplayerids[allplayerids.!=myplayerid]"
   ]
  },
  {
   "cell_type": "code",
   "execution_count": 12,
   "metadata": {
    "collapsed": false
   },
   "outputs": [
    {
     "ename": "KeyError",
     "evalue": "KeyError: key 4 not found",
     "output_type": "error",
     "traceback": [
      "KeyError: key 4 not found",
      "",
      "Stacktrace:",
      " [1] getindex(::Dict{Int64,Main.H.Player}, ::Int64) at ./dict.jl:478",
      " [2] (::getfield(Main, Symbol(\"##13#14\")))(::Int64) at ./none:0",
      " [3] collect_to!(::Array{Int64,1}, ::Base.Generator{UnitRange{Int64},getfield(Main, Symbol(\"##13#14\"))}, ::Int64, ::Int64) at ./generator.jl:47",
      " [4] collect_to_with_first!(::Array{Int64,1}, ::Int64, ::Base.Generator{UnitRange{Int64},getfield(Main, Symbol(\"##13#14\"))}, ::Int64) at ./array.jl:643",
      " [5] collect(::Base.Generator{UnitRange{Int64},getfield(Main, Symbol(\"##13#14\"))}) at ./array.jl:624",
      " [6] top-level scope at In[12]:1"
     ]
    }
   ],
   "source": [
    "allplayerids = [g.players[i].id for i=1:length(g.players)]\n",
    "#myplayerid = g.my_player_id\n",
    "#otherplayersids=allplayerids[allplayerids.!=myplayerid]"
   ]
  },
  {
   "cell_type": "code",
   "execution_count": 2,
   "metadata": {
    "collapsed": false
   },
   "outputs": [
    {
     "data": {
      "text/plain": [
       "2"
      ]
     },
     "execution_count": 2,
     "metadata": {},
     "output_type": "execute_result"
    }
   ],
   "source": [
    "myplayerid"
   ]
  },
  {
   "cell_type": "code",
   "execution_count": 17,
   "metadata": {
    "collapsed": false
   },
   "outputs": [
    {
     "data": {
      "text/plain": [
       "forbiddensquares (generic function with 1 method)"
      ]
     },
     "execution_count": 17,
     "metadata": {},
     "output_type": "execute_result"
    }
   ],
   "source": [
    "function forbiddensquares(g)\n",
    "    #forbid certain squares with respect to ENEMY ships (own ship avoidance is handled in avoidcollison)\n",
    "    #return boolean wrappedmatrix with all squares with enemy ships on them plus/minus one marked as true\n",
    "    NPlayers=length(g.players)\n",
    "    myplayerid = g.my_player_id\n",
    "    allplayerids = [g.players[i].id for i=0:length(g.players)-1]\n",
    "    otherplayersids=allplayerids[allplayerids.!=myplayerid]\n",
    "\n",
    "    forbidden = H.WrappedMatrix(falses(size(g.halite)));\n",
    "\n",
    "    for id = otherplayersids\n",
    "        Nships = length(g.players[id].ships)\n",
    "        enemyshippositions = [g.players[id].ships[i].p for i=1:Nships]\n",
    "\n",
    "        forbidden[enemyshippositions] .= true\n",
    "        forbidden[enemyshippositions .+ tuple(CartesianIndex(1,0))] .= true\n",
    "        forbidden[enemyshippositions .+ tuple(CartesianIndex(0,1))] .= true\n",
    "        forbidden[enemyshippositions .+ tuple(CartesianIndex(-1,0))] .= true\n",
    "        forbidden[enemyshippositions .+ tuple(CartesianIndex(0,-1))] .= true\n",
    "    end\n",
    "    \n",
    "    #Dont forbid dropoffs even if enemy is near it\n",
    "    p_dropoffs = H.dropoffs_p(H.me(g))\n",
    "    for i =1:length(p_dropoffs)\n",
    "        forbidden[p_dropoffs[i]] .= false\n",
    "        forbidden[p_dropoffs[i] .+ tuple(CartesianIndex(1,0))] .= false\n",
    "        forbidden[p_dropoffs[i] .+ tuple(CartesianIndex(0,1))] .= false\n",
    "        forbidden[p_dropoffs[i] .+ tuple(CartesianIndex(-1,0))] .= false\n",
    "        forbidden[p_dropoffs[i] .+ tuple(CartesianIndex(0,-1))] .= false\n",
    "    end\n",
    "    \n",
    "    return forbidden\n",
    "end"
   ]
  },
  {
   "cell_type": "code",
   "execution_count": 18,
   "metadata": {
    "collapsed": false
   },
   "outputs": [
    {
     "data": {
      "text/plain": [
       "32×32 Main.H.WrappedArray{Bool,2,BitArray{2}}:\n",
       "  true   true   true  false  false  …  false  false  false  false  false\n",
       " false   true  false  false  false     false  false  false  false  false\n",
       " false  false  false   true  false     false  false  false  false  false\n",
       " false  false   true   true   true     false  false  false  false  false\n",
       " false  false  false   true  false     false  false  false  false  false\n",
       " false  false  false  false  false  …  false  false  false  false  false\n",
       " false  false  false  false   true     false  false  false  false  false\n",
       " false  false  false  false  false     false  false  false  false  false\n",
       " false  false  false  false   true     false  false  false  false  false\n",
       " false  false  false  false  false      true  false  false  false  false\n",
       " false  false  false  false  false  …   true   true  false  false  false\n",
       " false  false  false  false  false      true  false  false  false   true\n",
       "  true  false  false  false  false     false  false  false   true   true\n",
       "     ⋮                              ⋱                           ⋮       \n",
       " false   true   true   true  false  …   true  false  false  false  false\n",
       " false  false   true  false  false     false  false  false  false  false\n",
       " false  false   true  false  false     false  false  false  false  false\n",
       " false   true   true   true  false     false  false  false  false  false\n",
       "  true  false   true  false  false     false  false  false  false  false\n",
       "  true   true  false  false  false  …  false  false  false  false   true\n",
       "  true  false  false  false  false     false  false  false  false  false\n",
       " false  false  false  false  false     false  false  false  false  false\n",
       " false  false  false  false  false     false  false  false  false  false\n",
       " false  false  false  false  false     false  false  false  false  false\n",
       " false  false  false  false  false  …  false  false  false  false  false\n",
       " false   true  false  false  false     false  false  false  false  false"
      ]
     },
     "execution_count": 18,
     "metadata": {},
     "output_type": "execute_result"
    }
   ],
   "source": [
    "forbiddensquares(g)"
   ]
  },
  {
   "cell_type": "code",
   "execution_count": 5,
   "metadata": {
    "collapsed": false
   },
   "outputs": [
    {
     "data": {
      "text/plain": [
       "4-element Array{Int64,1}:\n",
       " 1\n",
       " 2\n",
       " 3\n",
       " 4"
      ]
     },
     "execution_count": 5,
     "metadata": {},
     "output_type": "execute_result"
    }
   ],
   "source": [
    "[g.players[i].id for i=1:length(g.players)]"
   ]
  },
  {
   "cell_type": "code",
   "execution_count": 22,
   "metadata": {
    "collapsed": false
   },
   "outputs": [
    {
     "data": {
      "text/plain": [
       "11-element Array{CartesianIndex{2},1}:\n",
       " CartesianIndex(17, 6) \n",
       " CartesianIndex(23, 14)\n",
       " CartesianIndex(32, 4) \n",
       " CartesianIndex(8, 15) \n",
       " CartesianIndex(22, 30)\n",
       " CartesianIndex(5, 21) \n",
       " CartesianIndex(20, 12)\n",
       " CartesianIndex(30, 26)\n",
       " CartesianIndex(27, 8) \n",
       " CartesianIndex(21, 25)\n",
       " CartesianIndex(2, 1)  "
      ]
     },
     "execution_count": 22,
     "metadata": {},
     "output_type": "execute_result"
    }
   ],
   "source": [
    "H.dropoffs_p(H.me(g))"
   ]
  },
  {
   "cell_type": "code",
   "execution_count": 23,
   "metadata": {
    "collapsed": false
   },
   "outputs": [
    {
     "data": {
      "text/plain": [
       "CartesianIndex(17, 6)"
      ]
     },
     "execution_count": 23,
     "metadata": {},
     "output_type": "execute_result"
    }
   ],
   "source": [
    "H.me(g).shipyard"
   ]
  },
  {
   "cell_type": "code",
   "execution_count": 57,
   "metadata": {
    "collapsed": false
   },
   "outputs": [
    {
     "data": {
      "text/plain": [
       "12×12 Main.H.WrappedArray{Int64,2,Array{Int64,2}}:\n",
       " 0  0  1  1  1  1  1  0  0  0  0  0\n",
       " 0  1  1  1  1  1  1  1  0  0  0  0\n",
       " 1  1  1  1  1  1  1  1  1  0  0  0\n",
       " 0  1  1  1  1  1  1  1  0  0  0  0\n",
       " 0  0  1  1  1  1  1  0  0  0  0  0\n",
       " 0  0  0  1  1  1  0  0  0  0  0  0\n",
       " 0  0  0  0  1  0  0  0  0  0  0  0\n",
       " 0  0  0  0  0  0  0  0  0  0  0  0\n",
       " 0  0  0  0  0  0  0  0  0  0  0  0\n",
       " 0  0  0  0  0  0  0  0  0  0  0  0\n",
       " 0  0  0  0  1  0  0  0  0  0  0  0\n",
       " 0  0  0  1  1  1  0  0  0  0  0  0"
      ]
     },
     "execution_count": 57,
     "metadata": {},
     "output_type": "execute_result"
    }
   ],
   "source": [
    "a = H.WrappedMatrix(zeros(Int, 12,12))\n",
    "\n",
    "p=CartesianIndex(3,5)\n",
    "a[p[1]-2:p[1]+2, p[2]-2:p[2]+2]=1\n",
    "a[p[1]-1:p[1]+1, p[2]-3:p[2]+3]=1\n",
    "a[p[1]-0:p[1]+0, p[2]-4:p[2]+4]=1\n",
    "a[p[1]-3:p[1]+3, p[2]-1:p[2]+1]=1\n",
    "a[p[1]-4:p[1]+4, p[2]-0:p[2]+0]=1\n",
    "a\n",
    "\n",
    "\n",
    "\n"
   ]
  },
  {
   "cell_type": "code",
   "execution_count": 61,
   "metadata": {
    "collapsed": false
   },
   "outputs": [
    {
     "data": {
      "text/plain": [
       "inspiredsquares (generic function with 1 method)"
      ]
     },
     "execution_count": 61,
     "metadata": {},
     "output_type": "execute_result"
    }
   ],
   "source": [
    "function inspiredsquares(g)\n",
    "    NPlayers=length(g.players)\n",
    "    myplayerid = g.my_player_id\n",
    "    allplayerids = [g.players[i].id for i=0:length(g.players)-1]\n",
    "    otherplayersids=allplayerids[allplayerids.!=myplayerid]\n",
    "    \n",
    "    counter = H.WrappedMatrix(zeros(Int, size(g.halite)))\n",
    "    \n",
    "    for id = otherplayersids\n",
    "        Nships = length(g.players[id].ships)\n",
    "        enemyshippositions = [g.players[id].ships[i].p for i=1:Nships]\n",
    "    \n",
    "        for i = 1:length(enemyshippositions)\n",
    "            p = enemyshippositions[i]\n",
    "            #fill a shape of ones around the ship\n",
    "            a = H.WrappedMatrix(zeros(Int, size(g.halite)))\n",
    "            a[p[1]-2:p[1]+2, p[2]-2:p[2]+2]=1\n",
    "            a[p[1]-1:p[1]+1, p[2]-3:p[2]+3]=1\n",
    "            a[p[1]-0:p[1]+0, p[2]-4:p[2]+4]=1\n",
    "            a[p[1]-3:p[1]+3, p[2]-1:p[2]+1]=1\n",
    "            a[p[1]-4:p[1]+4, p[2]-0:p[2]+0]=1\n",
    "            \n",
    "            counter += a\n",
    "        end\n",
    "    end\n",
    "    inspired = counter.>=2 #must be 2 enemy ships within radius\n",
    "    return inspired\n",
    "end"
   ]
  },
  {
   "cell_type": "code",
   "execution_count": 62,
   "metadata": {
    "collapsed": false
   },
   "outputs": [
    {
     "data": {
      "text/plain": [
       "32×32 BitArray{2}:\n",
       "  true   true   true   true  false  …  false   true  false  false   true\n",
       "  true   true   true  false  false     false  false  false   true   true\n",
       "  true   true   true   true  false     false  false   true  false  false\n",
       " false   true   true   true   true     false  false  false  false  false\n",
       "  true   true   true   true   true     false  false  false  false  false\n",
       "  true   true   true   true  false  …  false  false  false  false   true\n",
       "  true   true  false   true   true     false  false  false  false   true\n",
       "  true  false  false  false   true     false  false  false  false  false\n",
       " false  false  false  false  false      true  false  false  false  false\n",
       " false  false  false  false  false      true  false  false  false  false\n",
       " false  false  false  false  false  …   true   true  false  false  false\n",
       " false  false  false  false  false      true   true   true  false  false\n",
       " false  false  false  false  false      true   true   true  false  false\n",
       "     ⋮                              ⋱                           ⋮       \n",
       " false  false  false  false  false  …  false  false  false  false  false\n",
       " false  false  false  false   true     false  false  false  false  false\n",
       " false  false  false  false   true     false  false  false  false  false\n",
       " false  false  false   true   true     false  false  false  false  false\n",
       " false  false   true   true   true     false   true  false  false  false\n",
       " false   true   true   true   true  …   true  false  false  false  false\n",
       " false   true   true   true   true     false  false   true  false  false\n",
       " false   true   true   true   true     false   true   true   true  false\n",
       "  true  false   true   true   true      true   true   true   true   true\n",
       "  true  false  false   true   true      true   true   true   true   true\n",
       "  true   true   true   true   true  …   true   true   true   true   true\n",
       "  true   true   true   true   true      true   true   true  false  false"
      ]
     },
     "execution_count": 62,
     "metadata": {},
     "output_type": "execute_result"
    }
   ],
   "source": [
    "inspiredsquares(g)"
   ]
  },
  {
   "cell_type": "code",
   "execution_count": null,
   "metadata": {
    "collapsed": true
   },
   "outputs": [],
   "source": []
  }
 ],
 "metadata": {
  "kernelspec": {
   "display_name": "Julia 1.0.1",
   "language": "julia",
   "name": "julia-1.0"
  },
  "language_info": {
   "file_extension": ".jl",
   "mimetype": "application/julia",
   "name": "julia",
   "version": "1.0.1"
  }
 },
 "nbformat": 4,
 "nbformat_minor": 2
}
