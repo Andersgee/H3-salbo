{
 "cells": [
  {
   "cell_type": "code",
   "execution_count": 14,
   "metadata": {
    "collapsed": false
   },
   "outputs": [
    {
     "name": "stderr",
     "output_type": "stream",
     "text": [
      "WARNING: replacing module H.\n",
      "WARNING: replacing module Salboai.\n"
     ]
    },
    {
     "data": {
      "text/plain": [
       "4×4 Array{Int64,2}:\n",
       " 0  70   0  0\n",
       " 0   0  90  0\n",
       " 0  50   0  0\n",
       " 0   0   0  0"
      ]
     },
     "execution_count": 14,
     "metadata": {},
     "output_type": "execute_result"
    }
   ],
   "source": [
    "include(\"../../hlt/halite.jl\")\n",
    "include(\"../salboai.jl\")\n",
    "\n",
    "using Test\n",
    "using Main.Salboai\n",
    "\n",
    "M = [0 70 0 0\n",
    "     0 0 90 0\n",
    "     0 50 0 0\n",
    "     0 0 0 0]"
   ]
  },
  {
   "cell_type": "code",
   "execution_count": 26,
   "metadata": {
    "collapsed": false
   },
   "outputs": [
    {
     "data": {
      "text/plain": [
       "2-element Array{Array{Char,1},1}:\n",
       " ['o', 'n', 's', 'e', 'w']\n",
       " ['e', 'n', 's', 'w', 'o']"
      ]
     },
     "execution_count": 26,
     "metadata": {},
     "output_type": "execute_result"
    }
   ],
   "source": [
    "newship(y,x) = H.Ship(0, 0, CartesianIndex(y,x), 0)\n",
    "\n",
    "ships = [newship(2,3),newship(2,2)]\n",
    "shipyard = CartesianIndex(2,2)\n",
    "\n",
    "moves = Vector{Char}[]\n",
    "for s in ships\n",
    "    dir = Salboai.candidate_directions(M, s, shipyard)\n",
    "    push!(moves, dir)\n",
    "end\n",
    "moves"
   ]
  },
  {
   "cell_type": "code",
   "execution_count": 27,
   "metadata": {
    "collapsed": false
   },
   "outputs": [
    {
     "data": {
      "text/plain": [
       "(['o', 'n'], true)"
      ]
     },
     "execution_count": 27,
     "metadata": {},
     "output_type": "execute_result"
    }
   ],
   "source": [
    "ships_p = [s.p for s in ships]\n",
    "pickedmove, cangenerate = Salboai.avoidcollision(M, ships_p, moves, shipyard)"
   ]
  },
  {
   "cell_type": "code",
   "execution_count": null,
   "metadata": {
    "collapsed": true
   },
   "outputs": [],
   "source": []
  }
 ],
 "metadata": {
  "kernelspec": {
   "display_name": "Julia 1.0.1",
   "language": "julia",
   "name": "julia-1.0"
  },
  "language_info": {
   "file_extension": ".jl",
   "mimetype": "application/julia",
   "name": "julia",
   "version": "1.0.1"
  }
 },
 "nbformat": 4,
 "nbformat_minor": 2
}
